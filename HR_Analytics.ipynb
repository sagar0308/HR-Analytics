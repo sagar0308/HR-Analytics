{
  "nbformat": 4,
  "nbformat_minor": 0,
  "metadata": {
    "colab": {
      "name": "HR-Analytics.ipynb",
      "provenance": [],
      "mount_file_id": "1UBEP1GKBjrRzB4fX6iK46-4oN2CQarGl",
      "authorship_tag": "ABX9TyPfTpLhl7B2u34r8G8rHWQS",
      "include_colab_link": true
    },
    "kernelspec": {
      "name": "python3",
      "display_name": "Python 3"
    },
    "language_info": {
      "name": "python"
    },
    "accelerator": "GPU"
  },
  "cells": [
    {
      "cell_type": "markdown",
      "metadata": {
        "id": "view-in-github",
        "colab_type": "text"
      },
      "source": [
        "<a href=\"https://colab.research.google.com/github/sagar0308/HR-Analytics/blob/main/HR_Analytics.ipynb\" target=\"_parent\"><img src=\"https://colab.research.google.com/assets/colab-badge.svg\" alt=\"Open In Colab\"/></a>"
      ]
    },
    {
      "cell_type": "code",
      "metadata": {
        "colab": {
          "base_uri": "https://localhost:8080/"
        },
        "id": "evFOY3X520a_",
        "outputId": "e9fda403-ea51-4eb1-e3b5-5096c53aa018"
      },
      "source": [
        "from google.colab import drive\n",
        "drive.mount('/content/gdrive')"
      ],
      "execution_count": 1,
      "outputs": [
        {
          "output_type": "stream",
          "name": "stdout",
          "text": [
            "Mounted at /content/gdrive\n"
          ]
        }
      ]
    },
    {
      "cell_type": "code",
      "metadata": {
        "id": "7LR9Y1Tm4TkF",
        "colab": {
          "base_uri": "https://localhost:8080/"
        },
        "outputId": "d242fd8b-070e-4318-a318-8b6c254335fb"
      },
      "source": [
        "import pandas as pd\n",
        "import numpy as np\n",
        "import matplotlib.pyplot as plt\n",
        "import seaborn as sns\n",
        "%matplotlib inline\n",
        "import warnings\n",
        "pd.set_option('display.max_columns', 500)\n",
        "pd.set_option('display.max_rows', 500)\n",
        "\n",
        "\n",
        "from sklearn.model_selection import RandomizedSearchCV\n",
        "from sklearn.preprocessing import LabelEncoder, OneHotEncoder, MinMaxScaler\n",
        "from imblearn.over_sampling import SMOTE\n",
        "from sklearn.model_selection import train_test_split\n",
        "from sklearn.linear_model import LogisticRegression\n",
        "from sklearn.svm import SVC, LinearSVC\n",
        "from sklearn.ensemble import GradientBoostingClassifier\n",
        "from xgboost import XGBClassifier\n",
        "from sklearn.ensemble import RandomForestClassifier\n",
        "\n",
        "from sklearn.metrics import accuracy_score,classification_report,f1_score,confusion_matrix,precision_score,roc_auc_score\n",
        "from sklearn.metrics import precision_recall_fscore_support as error_metric\n",
        "from sklearn.feature_selection import SelectFromModel"
      ],
      "execution_count": 2,
      "outputs": [
        {
          "output_type": "stream",
          "name": "stderr",
          "text": [
            "/usr/local/lib/python3.7/dist-packages/sklearn/externals/six.py:31: FutureWarning: The module is deprecated in version 0.21 and will be removed in version 0.23 since we've dropped support for Python 2.7. Please rely on the official version of six (https://pypi.org/project/six/).\n",
            "  \"(https://pypi.org/project/six/).\", FutureWarning)\n",
            "/usr/local/lib/python3.7/dist-packages/sklearn/utils/deprecation.py:144: FutureWarning: The sklearn.neighbors.base module is  deprecated in version 0.22 and will be removed in version 0.24. The corresponding classes / functions should instead be imported from sklearn.neighbors. Anything that cannot be imported from sklearn.neighbors is now part of the private API.\n",
            "  warnings.warn(message, FutureWarning)\n"
          ]
        }
      ]
    },
    {
      "cell_type": "code",
      "metadata": {
        "id": "-6MlISag3Dcp"
      },
      "source": [
        "data = pd.read_csv('/content/gdrive/MyDrive/ML_Projects/HR_Data_Train.csv')\n",
        "df = pd.read_csv('/content/gdrive/MyDrive/ML_Projects/HR_Data_Test.csv')"
      ],
      "execution_count": 3,
      "outputs": []
    },
    {
      "cell_type": "code",
      "metadata": {
        "id": "cVWrq58gGxt3",
        "colab": {
          "base_uri": "https://localhost:8080/",
          "height": 290
        },
        "outputId": "c27e71dc-279b-4488-fdec-536c62a9a0d9"
      },
      "source": [
        "data.head()"
      ],
      "execution_count": 4,
      "outputs": [
        {
          "output_type": "execute_result",
          "data": {
            "text/html": [
              "<div>\n",
              "<style scoped>\n",
              "    .dataframe tbody tr th:only-of-type {\n",
              "        vertical-align: middle;\n",
              "    }\n",
              "\n",
              "    .dataframe tbody tr th {\n",
              "        vertical-align: top;\n",
              "    }\n",
              "\n",
              "    .dataframe thead th {\n",
              "        text-align: right;\n",
              "    }\n",
              "</style>\n",
              "<table border=\"1\" class=\"dataframe\">\n",
              "  <thead>\n",
              "    <tr style=\"text-align: right;\">\n",
              "      <th></th>\n",
              "      <th>enrollee_id</th>\n",
              "      <th>city</th>\n",
              "      <th>city_development_index</th>\n",
              "      <th>gender</th>\n",
              "      <th>relevent_experience</th>\n",
              "      <th>enrolled_university</th>\n",
              "      <th>education_level</th>\n",
              "      <th>major_discipline</th>\n",
              "      <th>experience</th>\n",
              "      <th>company_size</th>\n",
              "      <th>company_type</th>\n",
              "      <th>last_new_job</th>\n",
              "      <th>training_hours</th>\n",
              "      <th>target</th>\n",
              "    </tr>\n",
              "  </thead>\n",
              "  <tbody>\n",
              "    <tr>\n",
              "      <th>0</th>\n",
              "      <td>23798</td>\n",
              "      <td>city_149</td>\n",
              "      <td>0.689</td>\n",
              "      <td>Male</td>\n",
              "      <td>Has relevent experience</td>\n",
              "      <td>no_enrollment</td>\n",
              "      <td>Graduate</td>\n",
              "      <td>STEM</td>\n",
              "      <td>3</td>\n",
              "      <td>100-500</td>\n",
              "      <td>Pvt Ltd</td>\n",
              "      <td>1</td>\n",
              "      <td>106</td>\n",
              "      <td>0</td>\n",
              "    </tr>\n",
              "    <tr>\n",
              "      <th>1</th>\n",
              "      <td>29166</td>\n",
              "      <td>city_83</td>\n",
              "      <td>0.923</td>\n",
              "      <td>Male</td>\n",
              "      <td>Has relevent experience</td>\n",
              "      <td>no_enrollment</td>\n",
              "      <td>Graduate</td>\n",
              "      <td>STEM</td>\n",
              "      <td>14</td>\n",
              "      <td>&lt;10</td>\n",
              "      <td>Funded Startup</td>\n",
              "      <td>1</td>\n",
              "      <td>69</td>\n",
              "      <td>0</td>\n",
              "    </tr>\n",
              "    <tr>\n",
              "      <th>2</th>\n",
              "      <td>46</td>\n",
              "      <td>city_16</td>\n",
              "      <td>0.910</td>\n",
              "      <td>NaN</td>\n",
              "      <td>Has relevent experience</td>\n",
              "      <td>no_enrollment</td>\n",
              "      <td>Graduate</td>\n",
              "      <td>STEM</td>\n",
              "      <td>6</td>\n",
              "      <td>50-99</td>\n",
              "      <td>Public Sector</td>\n",
              "      <td>2</td>\n",
              "      <td>4</td>\n",
              "      <td>0</td>\n",
              "    </tr>\n",
              "    <tr>\n",
              "      <th>3</th>\n",
              "      <td>18527</td>\n",
              "      <td>city_64</td>\n",
              "      <td>0.666</td>\n",
              "      <td>Male</td>\n",
              "      <td>Has relevent experience</td>\n",
              "      <td>no_enrollment</td>\n",
              "      <td>Graduate</td>\n",
              "      <td>STEM</td>\n",
              "      <td>14</td>\n",
              "      <td>50-99</td>\n",
              "      <td>Pvt Ltd</td>\n",
              "      <td>1</td>\n",
              "      <td>26</td>\n",
              "      <td>0</td>\n",
              "    </tr>\n",
              "    <tr>\n",
              "      <th>4</th>\n",
              "      <td>21751</td>\n",
              "      <td>city_100</td>\n",
              "      <td>0.887</td>\n",
              "      <td>NaN</td>\n",
              "      <td>No relevent experience</td>\n",
              "      <td>no_enrollment</td>\n",
              "      <td>Masters</td>\n",
              "      <td>STEM</td>\n",
              "      <td>8</td>\n",
              "      <td>NaN</td>\n",
              "      <td>NaN</td>\n",
              "      <td>2</td>\n",
              "      <td>88</td>\n",
              "      <td>1</td>\n",
              "    </tr>\n",
              "  </tbody>\n",
              "</table>\n",
              "</div>"
            ],
            "text/plain": [
              "   enrollee_id      city  city_development_index gender  \\\n",
              "0        23798  city_149                   0.689   Male   \n",
              "1        29166   city_83                   0.923   Male   \n",
              "2           46   city_16                   0.910    NaN   \n",
              "3        18527   city_64                   0.666   Male   \n",
              "4        21751  city_100                   0.887    NaN   \n",
              "\n",
              "       relevent_experience enrolled_university education_level  \\\n",
              "0  Has relevent experience       no_enrollment        Graduate   \n",
              "1  Has relevent experience       no_enrollment        Graduate   \n",
              "2  Has relevent experience       no_enrollment        Graduate   \n",
              "3  Has relevent experience       no_enrollment        Graduate   \n",
              "4   No relevent experience       no_enrollment         Masters   \n",
              "\n",
              "  major_discipline experience company_size    company_type last_new_job  \\\n",
              "0             STEM          3      100-500         Pvt Ltd            1   \n",
              "1             STEM         14          <10  Funded Startup            1   \n",
              "2             STEM          6        50-99   Public Sector            2   \n",
              "3             STEM         14        50-99         Pvt Ltd            1   \n",
              "4             STEM          8          NaN             NaN            2   \n",
              "\n",
              "   training_hours  target  \n",
              "0             106       0  \n",
              "1              69       0  \n",
              "2               4       0  \n",
              "3              26       0  \n",
              "4              88       1  "
            ]
          },
          "metadata": {},
          "execution_count": 4
        }
      ]
    },
    {
      "cell_type": "code",
      "metadata": {
        "colab": {
          "base_uri": "https://localhost:8080/"
        },
        "id": "dnd6ldk55tkS",
        "outputId": "47059c81-6d68-4ecd-c1d5-9e1cb092b3f6"
      },
      "source": [
        "data.shape"
      ],
      "execution_count": 5,
      "outputs": [
        {
          "output_type": "execute_result",
          "data": {
            "text/plain": [
              "(18359, 14)"
            ]
          },
          "metadata": {},
          "execution_count": 5
        }
      ]
    },
    {
      "cell_type": "code",
      "metadata": {
        "colab": {
          "base_uri": "https://localhost:8080/"
        },
        "id": "wYdba8It5wLt",
        "outputId": "6cac48a0-3a75-443f-d228-d5cfaae73edd"
      },
      "source": [
        "data.info()"
      ],
      "execution_count": 6,
      "outputs": [
        {
          "output_type": "stream",
          "name": "stdout",
          "text": [
            "<class 'pandas.core.frame.DataFrame'>\n",
            "RangeIndex: 18359 entries, 0 to 18358\n",
            "Data columns (total 14 columns):\n",
            " #   Column                  Non-Null Count  Dtype  \n",
            "---  ------                  --------------  -----  \n",
            " 0   enrollee_id             18359 non-null  int64  \n",
            " 1   city                    18359 non-null  object \n",
            " 2   city_development_index  18359 non-null  float64\n",
            " 3   gender                  14261 non-null  object \n",
            " 4   relevent_experience     18359 non-null  object \n",
            " 5   enrolled_university     18017 non-null  object \n",
            " 6   education_level         17902 non-null  object \n",
            " 7   major_discipline        15521 non-null  object \n",
            " 8   experience              18300 non-null  object \n",
            " 9   company_size            13580 non-null  object \n",
            " 10  company_type            13320 non-null  object \n",
            " 11  last_new_job            17992 non-null  object \n",
            " 12  training_hours          18359 non-null  int64  \n",
            " 13  target                  18359 non-null  int64  \n",
            "dtypes: float64(1), int64(3), object(10)\n",
            "memory usage: 2.0+ MB\n"
          ]
        }
      ]
    },
    {
      "cell_type": "code",
      "metadata": {
        "colab": {
          "base_uri": "https://localhost:8080/",
          "height": 295
        },
        "id": "bCIMn8a15xsT",
        "outputId": "88a6d2a7-9d43-4889-aea1-56d25f0cc8aa"
      },
      "source": [
        "data.describe()"
      ],
      "execution_count": 7,
      "outputs": [
        {
          "output_type": "execute_result",
          "data": {
            "text/html": [
              "<div>\n",
              "<style scoped>\n",
              "    .dataframe tbody tr th:only-of-type {\n",
              "        vertical-align: middle;\n",
              "    }\n",
              "\n",
              "    .dataframe tbody tr th {\n",
              "        vertical-align: top;\n",
              "    }\n",
              "\n",
              "    .dataframe thead th {\n",
              "        text-align: right;\n",
              "    }\n",
              "</style>\n",
              "<table border=\"1\" class=\"dataframe\">\n",
              "  <thead>\n",
              "    <tr style=\"text-align: right;\">\n",
              "      <th></th>\n",
              "      <th>enrollee_id</th>\n",
              "      <th>city_development_index</th>\n",
              "      <th>training_hours</th>\n",
              "      <th>target</th>\n",
              "    </tr>\n",
              "  </thead>\n",
              "  <tbody>\n",
              "    <tr>\n",
              "      <th>count</th>\n",
              "      <td>18359.000000</td>\n",
              "      <td>18359.000000</td>\n",
              "      <td>18359.000000</td>\n",
              "      <td>18359.000000</td>\n",
              "    </tr>\n",
              "    <tr>\n",
              "      <th>mean</th>\n",
              "      <td>16729.360096</td>\n",
              "      <td>0.847140</td>\n",
              "      <td>65.899014</td>\n",
              "      <td>0.132088</td>\n",
              "    </tr>\n",
              "    <tr>\n",
              "      <th>std</th>\n",
              "      <td>9643.749725</td>\n",
              "      <td>0.110189</td>\n",
              "      <td>60.885300</td>\n",
              "      <td>0.338595</td>\n",
              "    </tr>\n",
              "    <tr>\n",
              "      <th>min</th>\n",
              "      <td>1.000000</td>\n",
              "      <td>0.448000</td>\n",
              "      <td>1.000000</td>\n",
              "      <td>0.000000</td>\n",
              "    </tr>\n",
              "    <tr>\n",
              "      <th>25%</th>\n",
              "      <td>8378.500000</td>\n",
              "      <td>0.796000</td>\n",
              "      <td>23.000000</td>\n",
              "      <td>0.000000</td>\n",
              "    </tr>\n",
              "    <tr>\n",
              "      <th>50%</th>\n",
              "      <td>16706.000000</td>\n",
              "      <td>0.910000</td>\n",
              "      <td>47.000000</td>\n",
              "      <td>0.000000</td>\n",
              "    </tr>\n",
              "    <tr>\n",
              "      <th>75%</th>\n",
              "      <td>25148.500000</td>\n",
              "      <td>0.920000</td>\n",
              "      <td>89.000000</td>\n",
              "      <td>0.000000</td>\n",
              "    </tr>\n",
              "    <tr>\n",
              "      <th>max</th>\n",
              "      <td>33380.000000</td>\n",
              "      <td>0.949000</td>\n",
              "      <td>336.000000</td>\n",
              "      <td>1.000000</td>\n",
              "    </tr>\n",
              "  </tbody>\n",
              "</table>\n",
              "</div>"
            ],
            "text/plain": [
              "        enrollee_id  city_development_index  training_hours        target\n",
              "count  18359.000000            18359.000000    18359.000000  18359.000000\n",
              "mean   16729.360096                0.847140       65.899014      0.132088\n",
              "std     9643.749725                0.110189       60.885300      0.338595\n",
              "min        1.000000                0.448000        1.000000      0.000000\n",
              "25%     8378.500000                0.796000       23.000000      0.000000\n",
              "50%    16706.000000                0.910000       47.000000      0.000000\n",
              "75%    25148.500000                0.920000       89.000000      0.000000\n",
              "max    33380.000000                0.949000      336.000000      1.000000"
            ]
          },
          "metadata": {},
          "execution_count": 7
        }
      ]
    },
    {
      "cell_type": "code",
      "metadata": {
        "colab": {
          "base_uri": "https://localhost:8080/"
        },
        "id": "fNiCbrRq5zfp",
        "outputId": "d5fe4c26-ef2f-4449-c322-765022bbd78c"
      },
      "source": [
        "data.isnull().sum()"
      ],
      "execution_count": 8,
      "outputs": [
        {
          "output_type": "execute_result",
          "data": {
            "text/plain": [
              "enrollee_id                  0\n",
              "city                         0\n",
              "city_development_index       0\n",
              "gender                    4098\n",
              "relevent_experience          0\n",
              "enrolled_university        342\n",
              "education_level            457\n",
              "major_discipline          2838\n",
              "experience                  59\n",
              "company_size              4779\n",
              "company_type              5039\n",
              "last_new_job               367\n",
              "training_hours               0\n",
              "target                       0\n",
              "dtype: int64"
            ]
          },
          "metadata": {},
          "execution_count": 8
        }
      ]
    },
    {
      "cell_type": "code",
      "metadata": {
        "colab": {
          "base_uri": "https://localhost:8080/"
        },
        "id": "EqECHrPh51QC",
        "outputId": "65028673-1b89-450d-beae-9287b8d13e00"
      },
      "source": [
        "data.isnull().sum()*100/data.shape[0]"
      ],
      "execution_count": 9,
      "outputs": [
        {
          "output_type": "execute_result",
          "data": {
            "text/plain": [
              "enrollee_id                0.000000\n",
              "city                       0.000000\n",
              "city_development_index     0.000000\n",
              "gender                    22.321477\n",
              "relevent_experience        0.000000\n",
              "enrolled_university        1.862847\n",
              "education_level            2.489242\n",
              "major_discipline          15.458358\n",
              "experience                 0.321368\n",
              "company_size              26.030830\n",
              "company_type              27.447029\n",
              "last_new_job               1.999020\n",
              "training_hours             0.000000\n",
              "target                     0.000000\n",
              "dtype: float64"
            ]
          },
          "metadata": {},
          "execution_count": 9
        }
      ]
    },
    {
      "cell_type": "code",
      "metadata": {
        "colab": {
          "base_uri": "https://localhost:8080/",
          "height": 398
        },
        "id": "8XXvotyW52nl",
        "outputId": "07a78c7d-6fa7-4199-d3b6-da93639d0184"
      },
      "source": [
        "fig,ax = plt.subplots(figsize = (8,4))\n",
        "sns.heatmap(data.corr(),annot = True,annot_kws={'size':10})"
      ],
      "execution_count": 11,
      "outputs": [
        {
          "output_type": "execute_result",
          "data": {
            "text/plain": [
              "<matplotlib.axes._subplots.AxesSubplot at 0x7f9855928510>"
            ]
          },
          "metadata": {},
          "execution_count": 11
        },
        {
          "output_type": "display_data",
          "data": {
            "image/png": "[encoded data removed]",
            "text/plain": [
              "<Figure size 576x288 with 2 Axes>"
            ]
          },
          "metadata": {
            "needs_background": "light"
          }
        }
      ]
    },
    {
      "cell_type": "markdown",
      "metadata": {
        "id": "OTIuJR99l2I9"
      },
      "source": [
        "##Let's deal with the NULL values!"
      ]
    },
    {
      "cell_type": "code",
      "metadata": {
        "colab": {
          "base_uri": "https://localhost:8080/"
        },
        "id": "zGhf4Oyy54dK",
        "outputId": "0e38b09e-7596-48e1-ad68-0e791d251fc6"
      },
      "source": [
        "data.gender.value_counts()"
      ],
      "execution_count": 12,
      "outputs": [
        {
          "output_type": "execute_result",
          "data": {
            "text/plain": [
              "Male      12884\n",
              "Female     1188\n",
              "Other       189\n",
              "Name: gender, dtype: int64"
            ]
          },
          "metadata": {},
          "execution_count": 12
        }
      ]
    },
    {
      "cell_type": "code",
      "metadata": {
        "colab": {
          "base_uri": "https://localhost:8080/"
        },
        "id": "o5QnTEcM5_3F",
        "outputId": "46278743-f54b-4b2a-9a69-48177c041882"
      },
      "source": [
        "data.groupby('gender')['target'].value_counts()"
      ],
      "execution_count": 13,
      "outputs": [
        {
          "output_type": "execute_result",
          "data": {
            "text/plain": [
              "gender  target\n",
              "Female  0          1009\n",
              "        1           179\n",
              "Male    0         11306\n",
              "        1          1578\n",
              "Other   0           160\n",
              "        1            29\n",
              "Name: target, dtype: int64"
            ]
          },
          "metadata": {},
          "execution_count": 13
        }
      ]
    },
    {
      "cell_type": "code",
      "metadata": {
        "colab": {
          "base_uri": "https://localhost:8080/",
          "height": 322
        },
        "id": "1pi0IrH5F1m1",
        "outputId": "426fe2a6-e849-409c-ae9c-2f68b3bf2796"
      },
      "source": [
        "data.groupby('gender')['target'].value_counts().unstack().plot(kind='bar')"
      ],
      "execution_count": 14,
      "outputs": [
        {
          "output_type": "execute_result",
          "data": {
            "text/plain": [
              "<matplotlib.axes._subplots.AxesSubplot at 0x7f984bb6bf90>"
            ]
          },
          "metadata": {},
          "execution_count": 14
        },
        {
          "output_type": "display_data",
          "data": {
            "image/png": "[encoded data removed]",
            "text/plain": [
              "<Figure size 432x288 with 1 Axes>"
            ]
          },
          "metadata": {
            "needs_background": "light"
          }
        }
      ]
    },
    {
      "cell_type": "code",
      "metadata": {
        "id": "V5S8zfUq6B0X"
      },
      "source": [
        "data.gender=data.gender.fillna('Male')"
      ],
      "execution_count": 15,
      "outputs": []
    },
    {
      "cell_type": "code",
      "metadata": {
        "colab": {
          "base_uri": "https://localhost:8080/"
        },
        "id": "dE_9YVQS6Db-",
        "outputId": "bf459c11-ca98-4a9c-c550-a7dc5bd68636"
      },
      "source": [
        "data.target.value_counts()*100/data.shape[0]"
      ],
      "execution_count": 16,
      "outputs": [
        {
          "output_type": "execute_result",
          "data": {
            "text/plain": [
              "0    86.79122\n",
              "1    13.20878\n",
              "Name: target, dtype: float64"
            ]
          },
          "metadata": {},
          "execution_count": 16
        }
      ]
    },
    {
      "cell_type": "code",
      "metadata": {
        "colab": {
          "base_uri": "https://localhost:8080/"
        },
        "id": "968FbVSN6FuC",
        "outputId": "497a68f1-ffe1-4e62-ffd7-f1caa1c157e4"
      },
      "source": [
        "data.city.value_counts()*100/data.shape[0]"
      ],
      "execution_count": 17,
      "outputs": [
        {
          "output_type": "execute_result",
          "data": {
            "text/plain": [
              "city_103    23.737676\n",
              "city_21      9.107250\n",
              "city_16      9.009205\n",
              "city_114     8.017866\n",
              "city_160     4.504603\n",
              "city_136     3.398878\n",
              "city_67      2.478348\n",
              "city_75      1.808377\n",
              "city_104     1.732120\n",
              "city_102     1.704886\n",
              "city_71      1.530584\n",
              "city_100     1.476115\n",
              "city_73      1.437987\n",
              "city_61      1.181982\n",
              "city_28      1.154747\n",
              "city_23      1.056702\n",
              "city_65      1.024021\n",
              "city_90      0.980446\n",
              "city_36      0.953211\n",
              "city_173     0.849719\n",
              "city_50      0.817038\n",
              "city_11      0.817038\n",
              "city_83      0.773463\n",
              "city_116     0.713546\n",
              "city_46      0.697206\n",
              "city_138     0.686312\n",
              "city_162     0.680865\n",
              "city_45      0.648183\n",
              "city_64      0.648183\n",
              "city_97      0.593714\n",
              "city_57      0.588267\n",
              "city_149     0.571927\n",
              "city_99      0.550139\n",
              "city_159     0.539245\n",
              "city_19      0.533798\n",
              "city_10      0.517457\n",
              "city_41      0.517457\n",
              "city_165     0.490223\n",
              "city_105     0.473882\n",
              "city_98      0.468435\n",
              "city_123     0.424860\n",
              "city_40      0.397625\n",
              "city_89      0.375837\n",
              "city_74      0.359497\n",
              "city_150     0.359497\n",
              "city_128     0.337709\n",
              "city_24      0.326815\n",
              "city_27      0.294134\n",
              "city_13      0.288687\n",
              "city_152     0.288687\n",
              "city_158     0.283240\n",
              "city_115     0.272346\n",
              "city_76      0.266899\n",
              "city_134     0.261452\n",
              "city_142     0.245111\n",
              "city_101     0.239664\n",
              "city_91      0.228771\n",
              "city_143     0.217877\n",
              "city_70      0.212430\n",
              "city_77      0.206983\n",
              "city_145     0.201536\n",
              "city_20      0.163408\n",
              "city_144     0.163408\n",
              "city_118     0.157961\n",
              "city_1       0.147067\n",
              "city_141     0.147067\n",
              "city_53      0.147067\n",
              "city_26      0.136173\n",
              "city_93      0.136173\n",
              "city_14      0.136173\n",
              "city_176     0.130726\n",
              "city_7       0.130726\n",
              "city_84      0.125279\n",
              "city_30      0.125279\n",
              "city_72      0.119832\n",
              "city_94      0.114385\n",
              "city_9       0.114385\n",
              "city_157     0.114385\n",
              "city_78      0.108938\n",
              "city_69      0.108938\n",
              "city_126     0.103491\n",
              "city_44      0.098045\n",
              "city_80      0.098045\n",
              "city_175     0.087151\n",
              "city_37      0.081704\n",
              "city_55      0.076257\n",
              "city_54      0.076257\n",
              "city_12      0.076257\n",
              "city_127     0.070810\n",
              "city_33      0.070810\n",
              "city_117     0.065363\n",
              "city_39      0.065363\n",
              "city_133     0.059916\n",
              "city_167     0.054469\n",
              "city_59      0.049022\n",
              "city_2       0.049022\n",
              "city_48      0.049022\n",
              "city_109     0.043575\n",
              "city_106     0.043575\n",
              "city_131     0.038128\n",
              "city_146     0.038128\n",
              "city_43      0.038128\n",
              "city_79      0.038128\n",
              "city_81      0.038128\n",
              "city_120     0.032682\n",
              "city_62      0.027235\n",
              "city_42      0.027235\n",
              "city_180     0.027235\n",
              "city_82      0.027235\n",
              "city_155     0.021788\n",
              "city_107     0.021788\n",
              "city_179     0.021788\n",
              "city_18      0.021788\n",
              "city_31      0.021788\n",
              "city_8       0.021788\n",
              "city_25      0.021788\n",
              "city_139     0.021788\n",
              "city_166     0.021788\n",
              "city_129     0.016341\n",
              "city_121     0.016341\n",
              "city_111     0.016341\n",
              "city_171     0.010894\n",
              "city_140     0.005447\n",
              "Name: city, dtype: float64"
            ]
          },
          "metadata": {},
          "execution_count": 17
        }
      ]
    },
    {
      "cell_type": "code",
      "metadata": {
        "colab": {
          "base_uri": "https://localhost:8080/"
        },
        "id": "LbF0Yl506IEh",
        "outputId": "625d2716-45c6-4dc0-efb9-8805800e0687"
      },
      "source": [
        "len(data.city.value_counts())"
      ],
      "execution_count": 18,
      "outputs": [
        {
          "output_type": "execute_result",
          "data": {
            "text/plain": [
              "123"
            ]
          },
          "metadata": {},
          "execution_count": 18
        }
      ]
    },
    {
      "cell_type": "code",
      "metadata": {
        "colab": {
          "base_uri": "https://localhost:8080/"
        },
        "id": "470Y_pX36N_B",
        "outputId": "4cedb59e-cd0c-4273-e676-15ae9cc46636"
      },
      "source": [
        "data.isnull().sum()"
      ],
      "execution_count": 19,
      "outputs": [
        {
          "output_type": "execute_result",
          "data": {
            "text/plain": [
              "enrollee_id                  0\n",
              "city                         0\n",
              "city_development_index       0\n",
              "gender                       0\n",
              "relevent_experience          0\n",
              "enrolled_university        342\n",
              "education_level            457\n",
              "major_discipline          2838\n",
              "experience                  59\n",
              "company_size              4779\n",
              "company_type              5039\n",
              "last_new_job               367\n",
              "training_hours               0\n",
              "target                       0\n",
              "dtype: int64"
            ]
          },
          "metadata": {},
          "execution_count": 19
        }
      ]
    },
    {
      "cell_type": "code",
      "metadata": {
        "colab": {
          "base_uri": "https://localhost:8080/"
        },
        "id": "bRcQ_ZZQ6R6j",
        "outputId": "c40af991-abb1-4826-e10c-7758c3336ed0"
      },
      "source": [
        "data.enrolled_university.value_counts()"
      ],
      "execution_count": 20,
      "outputs": [
        {
          "output_type": "execute_result",
          "data": {
            "text/plain": [
              "no_enrollment       13659\n",
              "Full time course     3187\n",
              "Part time course     1171\n",
              "Name: enrolled_university, dtype: int64"
            ]
          },
          "metadata": {},
          "execution_count": 20
        }
      ]
    },
    {
      "cell_type": "code",
      "metadata": {
        "colab": {
          "base_uri": "https://localhost:8080/",
          "height": 298
        },
        "id": "0zxYqOGnIae7",
        "outputId": "58b74489-b075-4d80-ebf9-e936fd75ca1b"
      },
      "source": [
        "sns.countplot(x = 'enrolled_university', data = data)"
      ],
      "execution_count": 21,
      "outputs": [
        {
          "output_type": "execute_result",
          "data": {
            "text/plain": [
              "<matplotlib.axes._subplots.AxesSubplot at 0x7f984baec7d0>"
            ]
          },
          "metadata": {},
          "execution_count": 21
        },
        {
          "output_type": "display_data",
          "data": {
            "image/png": "[encoded data removed]",
            "text/plain": [
              "<Figure size 432x288 with 1 Axes>"
            ]
          },
          "metadata": {
            "needs_background": "light"
          }
        }
      ]
    },
    {
      "cell_type": "code",
      "metadata": {
        "colab": {
          "base_uri": "https://localhost:8080/"
        },
        "id": "h966t6PU6UHG",
        "outputId": "49de2674-bd25-44d9-f77e-ee791f537884"
      },
      "source": [
        "data.groupby(['enrolled_university','relevent_experience'])['target'].value_counts()"
      ],
      "execution_count": 22,
      "outputs": [
        {
          "output_type": "execute_result",
          "data": {
            "text/plain": [
              "enrolled_university  relevent_experience      target\n",
              "Full time course     Has relevent experience  0          1074\n",
              "                                              1           227\n",
              "                     No relevent experience   0          1506\n",
              "                                              1           380\n",
              "Part time course     Has relevent experience  0           721\n",
              "                                              1           106\n",
              "                     No relevent experience   0           276\n",
              "                                              1            68\n",
              "no_enrollment        Has relevent experience  0         10067\n",
              "                                              1          1231\n",
              "                     No relevent experience   0          2004\n",
              "                                              1           357\n",
              "Name: target, dtype: int64"
            ]
          },
          "metadata": {},
          "execution_count": 22
        }
      ]
    },
    {
      "cell_type": "code",
      "metadata": {
        "colab": {
          "base_uri": "https://localhost:8080/",
          "height": 505
        },
        "id": "mVLwRrVGJLmv",
        "outputId": "7e3777a4-1688-491a-950a-504fafd8f130"
      },
      "source": [
        "data.groupby(['enrolled_university','relevent_experience'])['target'].value_counts().unstack().plot(kind='bar')"
      ],
      "execution_count": 23,
      "outputs": [
        {
          "output_type": "execute_result",
          "data": {
            "text/plain": [
              "<matplotlib.axes._subplots.AxesSubplot at 0x7f984ba0b890>"
            ]
          },
          "metadata": {},
          "execution_count": 23
        },
        {
          "output_type": "display_data",
          "data": {
            "image/png": "[encoded data removed]",
            "text/plain": [
              "<Figure size 432x288 with 1 Axes>"
            ]
          },
          "metadata": {
            "needs_background": "light"
          }
        }
      ]
    },
    {
      "cell_type": "code",
      "metadata": {
        "id": "RXNoCsDo6V2v"
      },
      "source": [
        "test =data[data.target==1]['city'].value_counts()*100/(data[data.target==1]['city'].value_counts()+data[data.target==0]['city'].value_counts())"
      ],
      "execution_count": 24,
      "outputs": []
    },
    {
      "cell_type": "code",
      "metadata": {
        "colab": {
          "base_uri": "https://localhost:8080/"
        },
        "id": "sTWu39G-6X37",
        "outputId": "f73902f0-d183-4496-d3b6-eb3a75575c61"
      },
      "source": [
        "pd.Series.sort_values(test)"
      ],
      "execution_count": 25,
      "outputs": [
        {
          "output_type": "execute_result",
          "data": {
            "text/plain": [
              "city_77      2.631579\n",
              "city_30      4.347826\n",
              "city_157     4.761905\n",
              "city_97      5.504587\n",
              "city_138     5.555556\n",
              "city_173     6.410256\n",
              "city_104     6.603774\n",
              "city_20      6.666667\n",
              "city_36      6.857143\n",
              "city_1       7.407407\n",
              "city_28      7.547170\n",
              "city_45      7.563025\n",
              "city_127     7.692308\n",
              "city_23      7.731959\n",
              "city_136     7.852564\n",
              "city_105     8.045977\n",
              "city_98      8.139535\n",
              "city_40      8.219178\n",
              "city_61      8.294931\n",
              "city_24      8.333333\n",
              "city_7       8.333333\n",
              "city_50      8.666667\n",
              "city_72      9.090909\n",
              "city_116     9.160305\n",
              "city_114     9.239130\n",
              "city_16      9.310762\n",
              "city_13      9.433962\n",
              "city_10      9.473684\n",
              "city_75      9.638554\n",
              "city_83      9.859155\n",
              "city_167    10.000000\n",
              "city_69     10.000000\n",
              "city_64     10.084034\n",
              "city_159    10.101010\n",
              "city_57     10.185185\n",
              "city_65     10.638298\n",
              "city_67     10.769231\n",
              "city_99     10.891089\n",
              "city_71     11.032028\n",
              "city_141    11.111111\n",
              "city_102    11.501597\n",
              "city_160    11.850060\n",
              "city_93     12.000000\n",
              "city_14     12.000000\n",
              "city_26     12.000000\n",
              "city_149    12.380952\n",
              "city_176    12.500000\n",
              "city_175    12.500000\n",
              "city_103    12.918770\n",
              "city_142    13.333333\n",
              "city_12     14.285714\n",
              "city_131    14.285714\n",
              "city_81     14.285714\n",
              "city_94     14.285714\n",
              "city_54     14.285714\n",
              "city_73     14.393939\n",
              "city_134    14.583333\n",
              "city_27     14.814815\n",
              "city_74     15.151515\n",
              "city_150    15.151515\n",
              "city_123    15.384615\n",
              "city_90     16.111111\n",
              "city_100    16.236162\n",
              "city_46     16.406250\n",
              "city_80     16.666667\n",
              "city_44     16.666667\n",
              "city_120    16.666667\n",
              "city_41     16.842105\n",
              "city_152    16.981132\n",
              "city_133    18.181818\n",
              "city_101    18.181818\n",
              "city_76     18.367347\n",
              "city_162    18.400000\n",
              "city_165    18.888889\n",
              "city_19     19.387755\n",
              "city_37     20.000000\n",
              "city_42     20.000000\n",
              "city_84     21.739130\n",
              "city_89     21.739130\n",
              "city_59     22.222222\n",
              "city_143    22.500000\n",
              "city_158    23.076923\n",
              "city_70     23.076923\n",
              "city_9      23.809524\n",
              "city_91     23.809524\n",
              "city_11     24.000000\n",
              "city_25     25.000000\n",
              "city_109    25.000000\n",
              "city_107    25.000000\n",
              "city_117    25.000000\n",
              "city_166    25.000000\n",
              "city_106    25.000000\n",
              "city_31     25.000000\n",
              "city_179    25.000000\n",
              "city_18     25.000000\n",
              "city_78     25.000000\n",
              "city_115    26.000000\n",
              "city_126    26.315789\n",
              "city_144    26.666667\n",
              "city_21     27.093301\n",
              "city_128    27.419355\n",
              "city_118    27.586207\n",
              "city_146    28.571429\n",
              "city_79     28.571429\n",
              "city_55     28.571429\n",
              "city_43     28.571429\n",
              "city_53     29.629630\n",
              "city_145    29.729730\n",
              "city_48     33.333333\n",
              "city_171    50.000000\n",
              "city_33     53.846154\n",
              "city_139    75.000000\n",
              "city_111          NaN\n",
              "city_121          NaN\n",
              "city_129          NaN\n",
              "city_140          NaN\n",
              "city_155          NaN\n",
              "city_180          NaN\n",
              "city_2            NaN\n",
              "city_39           NaN\n",
              "city_62           NaN\n",
              "city_8            NaN\n",
              "city_82           NaN\n",
              "Name: city, dtype: float64"
            ]
          },
          "metadata": {},
          "execution_count": 25
        }
      ]
    },
    {
      "cell_type": "code",
      "metadata": {
        "id": "Sb-Ed9i36ZPt"
      },
      "source": [
        "data.enrolled_university=data.enrolled_university.fillna(\"no_enrollment\")"
      ],
      "execution_count": 26,
      "outputs": []
    },
    {
      "cell_type": "code",
      "metadata": {
        "colab": {
          "base_uri": "https://localhost:8080/"
        },
        "id": "21W7LNAN6bmR",
        "outputId": "44168653-943e-4f5e-e558-c0c0ca7ea604"
      },
      "source": [
        "data.education_level.value_counts()"
      ],
      "execution_count": 27,
      "outputs": [
        {
          "output_type": "execute_result",
          "data": {
            "text/plain": [
              "Graduate          10769\n",
              "Masters            4319\n",
              "High School        2032\n",
              "Phd                 459\n",
              "Primary School      323\n",
              "Name: education_level, dtype: int64"
            ]
          },
          "metadata": {},
          "execution_count": 27
        }
      ]
    },
    {
      "cell_type": "code",
      "metadata": {
        "colab": {
          "base_uri": "https://localhost:8080/"
        },
        "id": "xTTt5q5j6c8c",
        "outputId": "e7aea30f-88e3-4924-8b33-ad08ad7e6038"
      },
      "source": [
        "data.groupby('education_level')['target'].value_counts()"
      ],
      "execution_count": 28,
      "outputs": [
        {
          "output_type": "execute_result",
          "data": {
            "text/plain": [
              "education_level  target\n",
              "Graduate         0         9237\n",
              "                 1         1532\n",
              "High School      0         1791\n",
              "                 1          241\n",
              "Masters          0         3806\n",
              "                 1          513\n",
              "Phd              0          406\n",
              "                 1           53\n",
              "Primary School   0          298\n",
              "                 1           25\n",
              "Name: target, dtype: int64"
            ]
          },
          "metadata": {},
          "execution_count": 28
        }
      ]
    },
    {
      "cell_type": "code",
      "metadata": {
        "colab": {
          "base_uri": "https://localhost:8080/",
          "height": 362
        },
        "id": "VK8v6ci1KIWz",
        "outputId": "f6704623-61a9-45f7-eec0-d1043d8045b9"
      },
      "source": [
        "data.groupby('education_level')['target'].value_counts().unstack().plot(kind='bar')"
      ],
      "execution_count": 29,
      "outputs": [
        {
          "output_type": "execute_result",
          "data": {
            "text/plain": [
              "<matplotlib.axes._subplots.AxesSubplot at 0x7f984b9c4390>"
            ]
          },
          "metadata": {},
          "execution_count": 29
        },
        {
          "output_type": "display_data",
          "data": {
            "image/png": "[encoded data removed]",
            "text/plain": [
              "<Figure size 432x288 with 1 Axes>"
            ]
          },
          "metadata": {
            "needs_background": "light"
          }
        }
      ]
    },
    {
      "cell_type": "code",
      "metadata": {
        "id": "guaE44Mb6eQW"
      },
      "source": [
        "data.education_level=data.education_level.fillna(\"Graduate\")"
      ],
      "execution_count": 30,
      "outputs": []
    },
    {
      "cell_type": "code",
      "metadata": {
        "colab": {
          "base_uri": "https://localhost:8080/"
        },
        "id": "6p6RXHef6g6G",
        "outputId": "5b711604-41a4-4afa-d7f8-1a941c8c8a15"
      },
      "source": [
        "data.education_level.value_counts()"
      ],
      "execution_count": 31,
      "outputs": [
        {
          "output_type": "execute_result",
          "data": {
            "text/plain": [
              "Graduate          11226\n",
              "Masters            4319\n",
              "High School        2032\n",
              "Phd                 459\n",
              "Primary School      323\n",
              "Name: education_level, dtype: int64"
            ]
          },
          "metadata": {},
          "execution_count": 31
        }
      ]
    },
    {
      "cell_type": "code",
      "metadata": {
        "colab": {
          "base_uri": "https://localhost:8080/"
        },
        "id": "t_gmH_Av6iVg",
        "outputId": "9e19cef5-380d-4677-8830-ca5cba0ae669"
      },
      "source": [
        "data.major_discipline.value_counts()"
      ],
      "execution_count": 32,
      "outputs": [
        {
          "output_type": "execute_result",
          "data": {
            "text/plain": [
              "STEM               13738\n",
              "Humanities           688\n",
              "Other                343\n",
              "Business Degree      307\n",
              "Arts                 239\n",
              "No Major             206\n",
              "Name: major_discipline, dtype: int64"
            ]
          },
          "metadata": {},
          "execution_count": 32
        }
      ]
    },
    {
      "cell_type": "code",
      "metadata": {
        "colab": {
          "base_uri": "https://localhost:8080/",
          "height": 371
        },
        "id": "Dymaw1zNKlNi",
        "outputId": "f0be6289-6a87-4c69-a577-1665498dfc8c"
      },
      "source": [
        "data.groupby('major_discipline')['target'].value_counts().unstack().plot(kind='bar')"
      ],
      "execution_count": 33,
      "outputs": [
        {
          "output_type": "execute_result",
          "data": {
            "text/plain": [
              "<matplotlib.axes._subplots.AxesSubplot at 0x7f984b8c92d0>"
            ]
          },
          "metadata": {},
          "execution_count": 33
        },
        {
          "output_type": "display_data",
          "data": {
            "image/png": "[encoded data removed]",
            "text/plain": [
              "<Figure size 432x288 with 1 Axes>"
            ]
          },
          "metadata": {
            "needs_background": "light"
          }
        }
      ]
    },
    {
      "cell_type": "code",
      "metadata": {
        "colab": {
          "base_uri": "https://localhost:8080/"
        },
        "id": "ruCqVgnh6jqX",
        "outputId": "2bff898d-98b5-4ace-cec3-666195980af6"
      },
      "source": [
        "data.groupby(['education_level'])['target'].value_counts()"
      ],
      "execution_count": 34,
      "outputs": [
        {
          "output_type": "execute_result",
          "data": {
            "text/plain": [
              "education_level  target\n",
              "Graduate         0         9633\n",
              "                 1         1593\n",
              "High School      0         1791\n",
              "                 1          241\n",
              "Masters          0         3806\n",
              "                 1          513\n",
              "Phd              0          406\n",
              "                 1           53\n",
              "Primary School   0          298\n",
              "                 1           25\n",
              "Name: target, dtype: int64"
            ]
          },
          "metadata": {},
          "execution_count": 34
        }
      ]
    },
    {
      "cell_type": "code",
      "metadata": {
        "colab": {
          "base_uri": "https://localhost:8080/",
          "height": 432
        },
        "id": "ExuqP1ydoDUQ",
        "outputId": "23403539-bb5b-4eae-b530-0f9d182dc23b"
      },
      "source": [
        "data.groupby(['education_level', 'major_discipline'])['target'].value_counts().unstack().plot(kind='bar')"
      ],
      "execution_count": 35,
      "outputs": [
        {
          "output_type": "execute_result",
          "data": {
            "text/plain": [
              "<matplotlib.axes._subplots.AxesSubplot at 0x7f984b8bcdd0>"
            ]
          },
          "metadata": {},
          "execution_count": 35
        },
        {
          "output_type": "display_data",
          "data": {
            "image/png": "[encoded data removed]",
            "text/plain": [
              "<Figure size 432x288 with 1 Axes>"
            ]
          },
          "metadata": {
            "needs_background": "light"
          }
        }
      ]
    },
    {
      "cell_type": "code",
      "metadata": {
        "colab": {
          "base_uri": "https://localhost:8080/"
        },
        "id": "HQJ5rf8-oZ_R",
        "outputId": "7f16a896-04fa-4a7f-b6d8-9d836725a59a"
      },
      "source": [
        "data.education_level.value_counts()"
      ],
      "execution_count": 36,
      "outputs": [
        {
          "output_type": "execute_result",
          "data": {
            "text/plain": [
              "Graduate          11226\n",
              "Masters            4319\n",
              "High School        2032\n",
              "Phd                 459\n",
              "Primary School      323\n",
              "Name: education_level, dtype: int64"
            ]
          },
          "metadata": {},
          "execution_count": 36
        }
      ]
    },
    {
      "cell_type": "code",
      "metadata": {
        "colab": {
          "base_uri": "https://localhost:8080/"
        },
        "id": "gEsaiYOX6lnV",
        "outputId": "de801c08-8e6c-465d-8462-69c3fd5ba57e"
      },
      "source": [
        "data[data.education_level=='High School']['major_discipline'].replace(np.NaN,'Other',inplace=True)\n",
        "data[data.education_level=='Primary School']['major_discipline'].replace(np.NaN,'Other',inplace=True)"
      ],
      "execution_count": 37,
      "outputs": [
        {
          "output_type": "stream",
          "name": "stderr",
          "text": [
            "/usr/local/lib/python3.7/dist-packages/pandas/core/series.py:4582: SettingWithCopyWarning: \n",
            "A value is trying to be set on a copy of a slice from a DataFrame\n",
            "\n",
            "See the caveats in the documentation: https://pandas.pydata.org/pandas-docs/stable/user_guide/indexing.html#returning-a-view-versus-a-copy\n",
            "  method=method,\n"
          ]
        }
      ]
    },
    {
      "cell_type": "code",
      "metadata": {
        "colab": {
          "base_uri": "https://localhost:8080/"
        },
        "id": "GhYioNuF6nEF",
        "outputId": "f77dae2d-166f-47aa-bb6a-436e393938fd"
      },
      "source": [
        "data.major_discipline.isnull().sum()"
      ],
      "execution_count": 38,
      "outputs": [
        {
          "output_type": "execute_result",
          "data": {
            "text/plain": [
              "2838"
            ]
          },
          "metadata": {},
          "execution_count": 38
        }
      ]
    },
    {
      "cell_type": "code",
      "metadata": {
        "colab": {
          "base_uri": "https://localhost:8080/"
        },
        "id": "7Z_DpgBr6o8S",
        "outputId": "345b1434-b696-443a-92fc-5dd9d1a0bcd3"
      },
      "source": [
        "data.major_discipline.value_counts()"
      ],
      "execution_count": 39,
      "outputs": [
        {
          "output_type": "execute_result",
          "data": {
            "text/plain": [
              "STEM               13738\n",
              "Humanities           688\n",
              "Other                343\n",
              "Business Degree      307\n",
              "Arts                 239\n",
              "No Major             206\n",
              "Name: major_discipline, dtype: int64"
            ]
          },
          "metadata": {},
          "execution_count": 39
        }
      ]
    },
    {
      "cell_type": "code",
      "metadata": {
        "id": "UUs8FGLR6qU-"
      },
      "source": [
        "data.major_discipline=data.major_discipline.fillna(\"STEM\")"
      ],
      "execution_count": 40,
      "outputs": []
    },
    {
      "cell_type": "code",
      "metadata": {
        "colab": {
          "base_uri": "https://localhost:8080/"
        },
        "id": "fXr6DPN46sDm",
        "outputId": "1ee2f8d5-fa2a-4106-9ea0-ef2ac4a5e948"
      },
      "source": [
        "data[data.education_level=='High School']['major_discipline']"
      ],
      "execution_count": 41,
      "outputs": [
        {
          "output_type": "execute_result",
          "data": {
            "text/plain": [
              "15       STEM\n",
              "22       STEM\n",
              "24       STEM\n",
              "25       STEM\n",
              "41       STEM\n",
              "         ... \n",
              "18252    STEM\n",
              "18275    STEM\n",
              "18280    STEM\n",
              "18319    STEM\n",
              "18343    STEM\n",
              "Name: major_discipline, Length: 2032, dtype: object"
            ]
          },
          "metadata": {},
          "execution_count": 41
        }
      ]
    },
    {
      "cell_type": "code",
      "metadata": {
        "colab": {
          "base_uri": "https://localhost:8080/"
        },
        "id": "G0toep2I6trn",
        "outputId": "1df3c307-3dae-420c-dad5-06e7a2c7c8ef"
      },
      "source": [
        "data.major_discipline.value_counts()"
      ],
      "execution_count": 42,
      "outputs": [
        {
          "output_type": "execute_result",
          "data": {
            "text/plain": [
              "STEM               16576\n",
              "Humanities           688\n",
              "Other                343\n",
              "Business Degree      307\n",
              "Arts                 239\n",
              "No Major             206\n",
              "Name: major_discipline, dtype: int64"
            ]
          },
          "metadata": {},
          "execution_count": 42
        }
      ]
    },
    {
      "cell_type": "code",
      "metadata": {
        "colab": {
          "base_uri": "https://localhost:8080/"
        },
        "id": "NQpKusqP6vo3",
        "outputId": "58ebbb2d-aaeb-4784-82be-09283350c671"
      },
      "source": [
        "data.experience.value_counts()"
      ],
      "execution_count": 43,
      "outputs": [
        {
          "output_type": "execute_result",
          "data": {
            "text/plain": [
              ">20    3437\n",
              "5      1309\n",
              "4      1250\n",
              "3      1159\n",
              "6      1125\n",
              "2       992\n",
              "9       979\n",
              "10      967\n",
              "7       950\n",
              "8       755\n",
              "15      695\n",
              "11      667\n",
              "14      602\n",
              "16      549\n",
              "12      497\n",
              "1       452\n",
              "<1      416\n",
              "13      412\n",
              "17      347\n",
              "19      308\n",
              "18      286\n",
              "20      146\n",
              "Name: experience, dtype: int64"
            ]
          },
          "metadata": {},
          "execution_count": 43
        }
      ]
    },
    {
      "cell_type": "code",
      "metadata": {
        "colab": {
          "base_uri": "https://localhost:8080/"
        },
        "id": "mrDpPLtj6xCx",
        "outputId": "c5227cea-5e65-4d6a-c43a-25d93fcef016"
      },
      "source": [
        "data[data.relevent_experience==\"No relevent experience\"]['experience']=data[data.relevent_experience==\"No relevent experience\"]['experience'].replace(np.NaN,'0')\n",
        "data[data.relevent_experience==\"Has relevent experience\"]['experience']=data[data.relevent_experience==\"Has relevent experience\"]['experience'].replace(np.NaN,'1')"
      ],
      "execution_count": 44,
      "outputs": [
        {
          "output_type": "stream",
          "name": "stderr",
          "text": [
            "/usr/local/lib/python3.7/dist-packages/ipykernel_launcher.py:1: SettingWithCopyWarning: \n",
            "A value is trying to be set on a copy of a slice from a DataFrame.\n",
            "Try using .loc[row_indexer,col_indexer] = value instead\n",
            "\n",
            "See the caveats in the documentation: https://pandas.pydata.org/pandas-docs/stable/user_guide/indexing.html#returning-a-view-versus-a-copy\n",
            "  \"\"\"Entry point for launching an IPython kernel.\n",
            "/usr/local/lib/python3.7/dist-packages/ipykernel_launcher.py:2: SettingWithCopyWarning: \n",
            "A value is trying to be set on a copy of a slice from a DataFrame.\n",
            "Try using .loc[row_indexer,col_indexer] = value instead\n",
            "\n",
            "See the caveats in the documentation: https://pandas.pydata.org/pandas-docs/stable/user_guide/indexing.html#returning-a-view-versus-a-copy\n",
            "  \n"
          ]
        }
      ]
    },
    {
      "cell_type": "code",
      "metadata": {
        "id": "c9LZyX5w6zcQ"
      },
      "source": [
        "data.experience= data.experience.replace(np.NaN,0)"
      ],
      "execution_count": 45,
      "outputs": []
    },
    {
      "cell_type": "code",
      "metadata": {
        "colab": {
          "base_uri": "https://localhost:8080/"
        },
        "id": "q9of4GzA64qL",
        "outputId": "29354cb8-623c-4789-901b-23638387b509"
      },
      "source": [
        "data.experience.value_counts()"
      ],
      "execution_count": 46,
      "outputs": [
        {
          "output_type": "execute_result",
          "data": {
            "text/plain": [
              ">20    3437\n",
              "5      1309\n",
              "4      1250\n",
              "3      1159\n",
              "6      1125\n",
              "2       992\n",
              "9       979\n",
              "10      967\n",
              "7       950\n",
              "8       755\n",
              "15      695\n",
              "11      667\n",
              "14      602\n",
              "16      549\n",
              "12      497\n",
              "1       452\n",
              "<1      416\n",
              "13      412\n",
              "17      347\n",
              "19      308\n",
              "18      286\n",
              "20      146\n",
              "0        59\n",
              "Name: experience, dtype: int64"
            ]
          },
          "metadata": {},
          "execution_count": 46
        }
      ]
    },
    {
      "cell_type": "code",
      "metadata": {
        "colab": {
          "base_uri": "https://localhost:8080/"
        },
        "id": "KTBx6bwb66jB",
        "outputId": "0074fa2f-71dd-450d-8725-a9fda994e3af"
      },
      "source": [
        "data.experience.replace('>20',21,inplace=True)\n",
        "data.experience.replace('<1',0,inplace=True)\n",
        "data.experience=data.experience.astype(int)\n",
        "data.experience.value_counts()"
      ],
      "execution_count": 47,
      "outputs": [
        {
          "output_type": "execute_result",
          "data": {
            "text/plain": [
              "21    3437\n",
              "5     1309\n",
              "4     1250\n",
              "3     1159\n",
              "6     1125\n",
              "2      992\n",
              "9      979\n",
              "10     967\n",
              "7      950\n",
              "8      755\n",
              "15     695\n",
              "11     667\n",
              "14     602\n",
              "16     549\n",
              "12     497\n",
              "0      475\n",
              "1      452\n",
              "13     412\n",
              "17     347\n",
              "19     308\n",
              "18     286\n",
              "20     146\n",
              "Name: experience, dtype: int64"
            ]
          },
          "metadata": {},
          "execution_count": 47
        }
      ]
    },
    {
      "cell_type": "code",
      "metadata": {
        "colab": {
          "base_uri": "https://localhost:8080/"
        },
        "id": "5M3FffinslcQ",
        "outputId": "6ff47c42-3b31-47a3-9fd9-0cbec5fe9802"
      },
      "source": [
        "data.isnull().sum()"
      ],
      "execution_count": 48,
      "outputs": [
        {
          "output_type": "execute_result",
          "data": {
            "text/plain": [
              "enrollee_id                  0\n",
              "city                         0\n",
              "city_development_index       0\n",
              "gender                       0\n",
              "relevent_experience          0\n",
              "enrolled_university          0\n",
              "education_level              0\n",
              "major_discipline             0\n",
              "experience                   0\n",
              "company_size              4779\n",
              "company_type              5039\n",
              "last_new_job               367\n",
              "training_hours               0\n",
              "target                       0\n",
              "dtype: int64"
            ]
          },
          "metadata": {},
          "execution_count": 48
        }
      ]
    },
    {
      "cell_type": "code",
      "metadata": {
        "colab": {
          "base_uri": "https://localhost:8080/"
        },
        "id": "1sqSSM1H68fT",
        "outputId": "c75d20e3-96dd-4718-8043-dc1795ffec3c"
      },
      "source": [
        "data.company_size.value_counts()"
      ],
      "execution_count": 49,
      "outputs": [
        {
          "output_type": "execute_result",
          "data": {
            "text/plain": [
              "50-99        3120\n",
              "100-500      2698\n",
              "10000+       2044\n",
              "10/49        1466\n",
              "1000-4999    1399\n",
              "<10          1360\n",
              "500-999       902\n",
              "5000-9999     591\n",
              "Name: company_size, dtype: int64"
            ]
          },
          "metadata": {},
          "execution_count": 49
        }
      ]
    },
    {
      "cell_type": "code",
      "metadata": {
        "colab": {
          "base_uri": "https://localhost:8080/"
        },
        "id": "giBbgUyg6-di",
        "outputId": "b68bc302-02e1-4e44-c303-ec23769e3f78"
      },
      "source": [
        "data.groupby('company_size')['target'].value_counts()"
      ],
      "execution_count": 50,
      "outputs": [
        {
          "output_type": "execute_result",
          "data": {
            "text/plain": [
              "company_size  target\n",
              "10/49         0         1269\n",
              "              1          197\n",
              "100-500       0         2418\n",
              "              1          280\n",
              "1000-4999     0         1246\n",
              "              1          153\n",
              "10000+        0         1797\n",
              "              1          247\n",
              "50-99         0         2807\n",
              "              1          313\n",
              "500-999       0          797\n",
              "              1          105\n",
              "5000-9999     0          517\n",
              "              1           74\n",
              "<10           0         1214\n",
              "              1          146\n",
              "Name: target, dtype: int64"
            ]
          },
          "metadata": {},
          "execution_count": 50
        }
      ]
    },
    {
      "cell_type": "code",
      "metadata": {
        "colab": {
          "base_uri": "https://localhost:8080/"
        },
        "id": "Gp3mQebS6_u-",
        "outputId": "bf5c0b15-236e-4d16-a26c-f9413ae2cff4"
      },
      "source": [
        "data.groupby('company_type')['company_size'].value_counts()"
      ],
      "execution_count": 43,
      "outputs": [
        {
          "output_type": "execute_result",
          "data": {
            "text/plain": [
              "company_type         company_size\n",
              "Early Stage Startup  <10              288\n",
              "                     10/49            168\n",
              "                     50-99             99\n",
              "                     100-500           22\n",
              "                     500-999            2\n",
              "Funded Startup       50-99            399\n",
              "                     100-500          226\n",
              "                     10/49            208\n",
              "                     <10              149\n",
              "                     500-999           51\n",
              "NGO                  100-500          183\n",
              "                     50-99             80\n",
              "                     1000-4999         77\n",
              "                     10000+            41\n",
              "                     500-999           35\n",
              "                     10/49             33\n",
              "                     <10               32\n",
              "                     5000-9999         31\n",
              "Other                100-500           21\n",
              "                     50-99             18\n",
              "                     10000+            17\n",
              "                     1000-4999         15\n",
              "                     500-999           11\n",
              "                     <10               11\n",
              "                     10/49             10\n",
              "                     5000-9999          9\n",
              "Public Sector        1000-4999        180\n",
              "                     100-500          170\n",
              "                     10000+           158\n",
              "                     50-99            124\n",
              "                     500-999           93\n",
              "                     5000-9999         89\n",
              "                     10/49             40\n",
              "                     <10               40\n",
              "Pvt Ltd              50-99           2177\n",
              "                     100-500         1916\n",
              "                     10000+          1752\n",
              "                     1000-4999       1064\n",
              "                     10/49            905\n",
              "                     <10              775\n",
              "                     500-999          644\n",
              "                     5000-9999        428\n",
              "Name: company_size, dtype: int64"
            ]
          },
          "metadata": {},
          "execution_count": 43
        }
      ]
    },
    {
      "cell_type": "code",
      "metadata": {
        "id": "Iczapzdx7BqX"
      },
      "source": [
        "data.company_type=data.company_type.fillna('Pvt Ltd')"
      ],
      "execution_count": 51,
      "outputs": []
    },
    {
      "cell_type": "code",
      "metadata": {
        "id": "GBYX7jYp7DyZ"
      },
      "source": [
        "data.company_size=data.company_size.fillna('50-99')"
      ],
      "execution_count": 52,
      "outputs": []
    },
    {
      "cell_type": "code",
      "metadata": {
        "colab": {
          "base_uri": "https://localhost:8080/"
        },
        "id": "r63n_8nk7FXz",
        "outputId": "59e724fe-2484-4970-bcba-d4960e2d9978"
      },
      "source": [
        "data.last_new_job.value_counts()"
      ],
      "execution_count": 53,
      "outputs": [
        {
          "output_type": "execute_result",
          "data": {
            "text/plain": [
              "1        7567\n",
              ">4       3339\n",
              "2        2835\n",
              "never    2186\n",
              "4        1038\n",
              "3        1027\n",
              "Name: last_new_job, dtype: int64"
            ]
          },
          "metadata": {},
          "execution_count": 53
        }
      ]
    },
    {
      "cell_type": "code",
      "metadata": {
        "id": "e7cko4rt7Gho"
      },
      "source": [
        "data.last_new_job=data.last_new_job.fillna('1')"
      ],
      "execution_count": 54,
      "outputs": []
    },
    {
      "cell_type": "code",
      "metadata": {
        "colab": {
          "base_uri": "https://localhost:8080/"
        },
        "id": "ZhhB-ho_7IQP",
        "outputId": "5fb285bb-6871-46f7-c5cc-a01fb477ef9e"
      },
      "source": [
        "data.columns"
      ],
      "execution_count": 55,
      "outputs": [
        {
          "output_type": "execute_result",
          "data": {
            "text/plain": [
              "Index(['enrollee_id', 'city', 'city_development_index', 'gender',\n",
              "       'relevent_experience', 'enrolled_university', 'education_level',\n",
              "       'major_discipline', 'experience', 'company_size', 'company_type',\n",
              "       'last_new_job', 'training_hours', 'target'],\n",
              "      dtype='object')"
            ]
          },
          "metadata": {},
          "execution_count": 55
        }
      ]
    },
    {
      "cell_type": "code",
      "metadata": {
        "colab": {
          "base_uri": "https://localhost:8080/"
        },
        "id": "1rgC7IMs7Jiz",
        "outputId": "2d7617f8-375d-4fe0-fa2a-4ed352cc2fd2"
      },
      "source": [
        "data.last_new_job.value_counts()"
      ],
      "execution_count": 56,
      "outputs": [
        {
          "output_type": "execute_result",
          "data": {
            "text/plain": [
              "1        7934\n",
              ">4       3339\n",
              "2        2835\n",
              "never    2186\n",
              "4        1038\n",
              "3        1027\n",
              "Name: last_new_job, dtype: int64"
            ]
          },
          "metadata": {},
          "execution_count": 56
        }
      ]
    },
    {
      "cell_type": "markdown",
      "metadata": {
        "id": "C6SCAQrbOB5i"
      },
      "source": [
        "### One hot encoding -- gender,relevent_experience,education_level\n",
        "### Label encoding -- education_level,major_discipline,company_size,company_type,last_new_job"
      ]
    },
    {
      "cell_type": "code",
      "metadata": {
        "colab": {
          "base_uri": "https://localhost:8080/"
        },
        "id": "UHXPcCHJ7LaR",
        "outputId": "0a9b89da-33ed-4271-94da-dc1e4b92abb9"
      },
      "source": [
        "num_val =data.select_dtypes(exclude =object)\n",
        "cat_val =data.select_dtypes(include =object)\n",
        "num_val.drop('enrollee_id',1,inplace=True)"
      ],
      "execution_count": 58,
      "outputs": [
        {
          "output_type": "stream",
          "name": "stderr",
          "text": [
            "/usr/local/lib/python3.7/dist-packages/pandas/core/frame.py:4174: SettingWithCopyWarning: \n",
            "A value is trying to be set on a copy of a slice from a DataFrame\n",
            "\n",
            "See the caveats in the documentation: https://pandas.pydata.org/pandas-docs/stable/user_guide/indexing.html#returning-a-view-versus-a-copy\n",
            "  errors=errors,\n"
          ]
        }
      ]
    },
    {
      "cell_type": "code",
      "metadata": {
        "colab": {
          "base_uri": "https://localhost:8080/"
        },
        "id": "vS0pvMRh7Nbm",
        "outputId": "566ae735-f307-41a5-9ec3-ef73e53f800a"
      },
      "source": [
        "cat_val.columns"
      ],
      "execution_count": 59,
      "outputs": [
        {
          "output_type": "execute_result",
          "data": {
            "text/plain": [
              "Index(['city', 'gender', 'relevent_experience', 'enrolled_university',\n",
              "       'education_level', 'major_discipline', 'company_size', 'company_type',\n",
              "       'last_new_job'],\n",
              "      dtype='object')"
            ]
          },
          "metadata": {},
          "execution_count": 59
        }
      ]
    },
    {
      "cell_type": "code",
      "metadata": {
        "colab": {
          "base_uri": "https://localhost:8080/"
        },
        "id": "3nx3pQFj7Pks",
        "outputId": "10a57a64-dd84-4ce5-aae0-e74f30867abb"
      },
      "source": [
        "label_en=['city','education_level','major_discipline','company_size','company_type','last_new_job']\n",
        "labelencoder_X_1 = LabelEncoder()\n",
        "for var in cat_val.columns:\n",
        "     cat_val[var] = labelencoder_X_1.fit_transform(cat_val[var])"
      ],
      "execution_count": 60,
      "outputs": [
        {
          "output_type": "stream",
          "name": "stderr",
          "text": [
            "/usr/local/lib/python3.7/dist-packages/ipykernel_launcher.py:4: SettingWithCopyWarning: \n",
            "A value is trying to be set on a copy of a slice from a DataFrame.\n",
            "Try using .loc[row_indexer,col_indexer] = value instead\n",
            "\n",
            "See the caveats in the documentation: https://pandas.pydata.org/pandas-docs/stable/user_guide/indexing.html#returning-a-view-versus-a-copy\n",
            "  after removing the cwd from sys.path.\n"
          ]
        }
      ]
    },
    {
      "cell_type": "code",
      "metadata": {
        "colab": {
          "base_uri": "https://localhost:8080/",
          "height": 203
        },
        "id": "uOYFQlR37RPK",
        "outputId": "5964323a-d88a-4fe2-d6b1-548020b25ff8"
      },
      "source": [
        "cat_val.head()"
      ],
      "execution_count": 61,
      "outputs": [
        {
          "output_type": "execute_result",
          "data": {
            "text/html": [
              "<div>\n",
              "<style scoped>\n",
              "    .dataframe tbody tr th:only-of-type {\n",
              "        vertical-align: middle;\n",
              "    }\n",
              "\n",
              "    .dataframe tbody tr th {\n",
              "        vertical-align: top;\n",
              "    }\n",
              "\n",
              "    .dataframe thead th {\n",
              "        text-align: right;\n",
              "    }\n",
              "</style>\n",
              "<table border=\"1\" class=\"dataframe\">\n",
              "  <thead>\n",
              "    <tr style=\"text-align: right;\">\n",
              "      <th></th>\n",
              "      <th>city</th>\n",
              "      <th>gender</th>\n",
              "      <th>relevent_experience</th>\n",
              "      <th>enrolled_university</th>\n",
              "      <th>education_level</th>\n",
              "      <th>major_discipline</th>\n",
              "      <th>company_size</th>\n",
              "      <th>company_type</th>\n",
              "      <th>last_new_job</th>\n",
              "    </tr>\n",
              "  </thead>\n",
              "  <tbody>\n",
              "    <tr>\n",
              "      <th>0</th>\n",
              "      <td>41</td>\n",
              "      <td>1</td>\n",
              "      <td>0</td>\n",
              "      <td>2</td>\n",
              "      <td>0</td>\n",
              "      <td>5</td>\n",
              "      <td>1</td>\n",
              "      <td>5</td>\n",
              "      <td>0</td>\n",
              "    </tr>\n",
              "    <tr>\n",
              "      <th>1</th>\n",
              "      <td>112</td>\n",
              "      <td>1</td>\n",
              "      <td>0</td>\n",
              "      <td>2</td>\n",
              "      <td>0</td>\n",
              "      <td>5</td>\n",
              "      <td>7</td>\n",
              "      <td>1</td>\n",
              "      <td>0</td>\n",
              "    </tr>\n",
              "    <tr>\n",
              "      <th>2</th>\n",
              "      <td>48</td>\n",
              "      <td>1</td>\n",
              "      <td>0</td>\n",
              "      <td>2</td>\n",
              "      <td>0</td>\n",
              "      <td>5</td>\n",
              "      <td>4</td>\n",
              "      <td>4</td>\n",
              "      <td>1</td>\n",
              "    </tr>\n",
              "    <tr>\n",
              "      <th>3</th>\n",
              "      <td>93</td>\n",
              "      <td>1</td>\n",
              "      <td>0</td>\n",
              "      <td>2</td>\n",
              "      <td>0</td>\n",
              "      <td>5</td>\n",
              "      <td>4</td>\n",
              "      <td>5</td>\n",
              "      <td>0</td>\n",
              "    </tr>\n",
              "    <tr>\n",
              "      <th>4</th>\n",
              "      <td>2</td>\n",
              "      <td>1</td>\n",
              "      <td>1</td>\n",
              "      <td>2</td>\n",
              "      <td>2</td>\n",
              "      <td>5</td>\n",
              "      <td>4</td>\n",
              "      <td>5</td>\n",
              "      <td>1</td>\n",
              "    </tr>\n",
              "  </tbody>\n",
              "</table>\n",
              "</div>"
            ],
            "text/plain": [
              "   city  gender  relevent_experience  enrolled_university  education_level  \\\n",
              "0    41       1                    0                    2                0   \n",
              "1   112       1                    0                    2                0   \n",
              "2    48       1                    0                    2                0   \n",
              "3    93       1                    0                    2                0   \n",
              "4     2       1                    1                    2                2   \n",
              "\n",
              "   major_discipline  company_size  company_type  last_new_job  \n",
              "0                 5             1             5             0  \n",
              "1                 5             7             1             0  \n",
              "2                 5             4             4             1  \n",
              "3                 5             4             5             0  \n",
              "4                 5             4             5             1  "
            ]
          },
          "metadata": {},
          "execution_count": 61
        }
      ]
    },
    {
      "cell_type": "code",
      "metadata": {
        "colab": {
          "base_uri": "https://localhost:8080/"
        },
        "id": "mvSZS8LP7TDw",
        "outputId": "9813d10e-4aa4-492f-af7a-af706a62e73f"
      },
      "source": [
        "cat_val.gender.value_counts()"
      ],
      "execution_count": 62,
      "outputs": [
        {
          "output_type": "execute_result",
          "data": {
            "text/plain": [
              "1    16982\n",
              "0     1188\n",
              "2      189\n",
              "Name: gender, dtype: int64"
            ]
          },
          "metadata": {},
          "execution_count": 62
        }
      ]
    },
    {
      "cell_type": "code",
      "metadata": {
        "colab": {
          "base_uri": "https://localhost:8080/"
        },
        "id": "yrD9c7AB7UuE",
        "outputId": "700fbb0a-2ae9-48ac-e6dd-d1a9a9923e1c"
      },
      "source": [
        "cat_val.city.value_counts()"
      ],
      "execution_count": 63,
      "outputs": [
        {
          "output_type": "execute_result",
          "data": {
            "text/plain": [
              "5      4358\n",
              "64     1672\n",
              "48     1654\n",
              "13     1472\n",
              "49      827\n",
              "30      624\n",
              "95      455\n",
              "103     332\n",
              "6       318\n",
              "4       313\n",
              "99      281\n",
              "2       271\n",
              "101     264\n",
              "91      217\n",
              "70      212\n",
              "65      194\n",
              "94      188\n",
              "116     180\n",
              "74      175\n",
              "55      156\n",
              "11      150\n",
              "85      150\n",
              "112     142\n",
              "15      131\n",
              "83      128\n",
              "31      126\n",
              "50      125\n",
              "82      119\n",
              "93      119\n",
              "120     109\n",
              "89      108\n",
              "41      105\n",
              "122     101\n",
              "47       99\n",
              "61       98\n",
              "78       95\n",
              "1        95\n",
              "51       90\n",
              "7        87\n",
              "121      86\n",
              "21       78\n",
              "77       73\n",
              "114      69\n",
              "42       66\n",
              "102      66\n",
              "24       62\n",
              "66       60\n",
              "69       54\n",
              "26       53\n",
              "43       53\n",
              "46       52\n",
              "14       50\n",
              "104      49\n",
              "29       48\n",
              "36       45\n",
              "3        44\n",
              "117      42\n",
              "37       40\n",
              "98       39\n",
              "105      38\n",
              "39       37\n",
              "63       30\n",
              "38       30\n",
              "17       29\n",
              "0        27\n",
              "35       27\n",
              "86       27\n",
              "118      25\n",
              "68       25\n",
              "33       25\n",
              "97       24\n",
              "57       24\n",
              "113      23\n",
              "71       23\n",
              "100      22\n",
              "115      21\n",
              "45       21\n",
              "119      21\n",
              "106      20\n",
              "96       20\n",
              "22       19\n",
              "81       18\n",
              "109      18\n",
              "56       16\n",
              "75       15\n",
              "18       14\n",
              "87       14\n",
              "88       14\n",
              "23       13\n",
              "73       13\n",
              "16       12\n",
              "76       12\n",
              "28       11\n",
              "53       10\n",
              "84        9\n",
              "62        9\n",
              "90        9\n",
              "10        8\n",
              "8         8\n",
              "107       7\n",
              "80        7\n",
              "40        7\n",
              "110       7\n",
              "27        7\n",
              "19        6\n",
              "92        5\n",
              "60        5\n",
              "79        5\n",
              "111       5\n",
              "59        4\n",
              "44        4\n",
              "58        4\n",
              "108       4\n",
              "9         4\n",
              "72        4\n",
              "67        4\n",
              "32        4\n",
              "52        4\n",
              "12        3\n",
              "25        3\n",
              "20        3\n",
              "54        2\n",
              "34        1\n",
              "Name: city, dtype: int64"
            ]
          },
          "metadata": {},
          "execution_count": 63
        }
      ]
    },
    {
      "cell_type": "code",
      "metadata": {
        "colab": {
          "base_uri": "https://localhost:8080/",
          "height": 1000
        },
        "id": "JkS7HBAM7Wxu",
        "outputId": "ceda1bb3-492a-451d-878e-dfecfd8c71b9"
      },
      "source": [
        "for col in num_val.columns[0:-1]:\n",
        "    print(col)\n",
        "    sns.distplot(np.log1p(num_val[col]))\n",
        "    num_val[col]=np.sqrt(num_val[col])\n",
        "    plt.title('plotting distribution ' + col)\n",
        "    plt.xlabel(col)\n",
        "    plt.show()"
      ],
      "execution_count": 64,
      "outputs": [
        {
          "output_type": "stream",
          "name": "stdout",
          "text": [
            "city_development_index\n"
          ]
        },
        {
          "output_type": "stream",
          "name": "stderr",
          "text": [
            "/usr/local/lib/python3.7/dist-packages/seaborn/distributions.py:2557: FutureWarning: `distplot` is a deprecated function and will be removed in a future version. Please adapt your code to use either `displot` (a figure-level function with similar flexibility) or `histplot` (an axes-level function for histograms).\n",
            "  warnings.warn(msg, FutureWarning)\n",
            "/usr/local/lib/python3.7/dist-packages/ipykernel_launcher.py:4: SettingWithCopyWarning: \n",
            "A value is trying to be set on a copy of a slice from a DataFrame.\n",
            "Try using .loc[row_indexer,col_indexer] = value instead\n",
            "\n",
            "See the caveats in the documentation: https://pandas.pydata.org/pandas-docs/stable/user_guide/indexing.html#returning-a-view-versus-a-copy\n",
            "  after removing the cwd from sys.path.\n"
          ]
        },
        {
          "output_type": "display_data",
          "data": {
            "image/png": "[encoded data removed]",
            "text/plain": [
              "<Figure size 432x288 with 1 Axes>"
            ]
          },
          "metadata": {
            "needs_background": "light"
          }
        },
        {
          "output_type": "stream",
          "name": "stdout",
          "text": [
            "experience\n"
          ]
        },
        {
          "output_type": "stream",
          "name": "stderr",
          "text": [
            "/usr/local/lib/python3.7/dist-packages/seaborn/distributions.py:2557: FutureWarning: `distplot` is a deprecated function and will be removed in a future version. Please adapt your code to use either `displot` (a figure-level function with similar flexibility) or `histplot` (an axes-level function for histograms).\n",
            "  warnings.warn(msg, FutureWarning)\n",
            "/usr/local/lib/python3.7/dist-packages/ipykernel_launcher.py:4: SettingWithCopyWarning: \n",
            "A value is trying to be set on a copy of a slice from a DataFrame.\n",
            "Try using .loc[row_indexer,col_indexer] = value instead\n",
            "\n",
            "See the caveats in the documentation: https://pandas.pydata.org/pandas-docs/stable/user_guide/indexing.html#returning-a-view-versus-a-copy\n",
            "  after removing the cwd from sys.path.\n"
          ]
        },
        {
          "output_type": "display_data",
          "data": {
            "image/png": "[encoded data removed]",
            "text/plain": [
              "<Figure size 432x288 with 1 Axes>"
            ]
          },
          "metadata": {
            "needs_background": "light"
          }
        },
        {
          "output_type": "stream",
          "name": "stdout",
          "text": [
            "training_hours\n"
          ]
        },
        {
          "output_type": "stream",
          "name": "stderr",
          "text": [
            "/usr/local/lib/python3.7/dist-packages/seaborn/distributions.py:2557: FutureWarning: `distplot` is a deprecated function and will be removed in a future version. Please adapt your code to use either `displot` (a figure-level function with similar flexibility) or `histplot` (an axes-level function for histograms).\n",
            "  warnings.warn(msg, FutureWarning)\n",
            "/usr/local/lib/python3.7/dist-packages/ipykernel_launcher.py:4: SettingWithCopyWarning: \n",
            "A value is trying to be set on a copy of a slice from a DataFrame.\n",
            "Try using .loc[row_indexer,col_indexer] = value instead\n",
            "\n",
            "See the caveats in the documentation: https://pandas.pydata.org/pandas-docs/stable/user_guide/indexing.html#returning-a-view-versus-a-copy\n",
            "  after removing the cwd from sys.path.\n"
          ]
        },
        {
          "output_type": "display_data",
          "data": {
            "image/png": "[encoded data removed]",
            "text/plain": [
              "<Figure size 432x288 with 1 Axes>"
            ]
          },
          "metadata": {
            "needs_background": "light"
          }
        }
      ]
    },
    {
      "cell_type": "code",
      "metadata": {
        "colab": {
          "base_uri": "https://localhost:8080/"
        },
        "id": "uV_cN2ZJ7Z76",
        "outputId": "48cf036d-ac3b-4482-d64f-d7f46b8ae308"
      },
      "source": [
        "num_val.columns"
      ],
      "execution_count": 65,
      "outputs": [
        {
          "output_type": "execute_result",
          "data": {
            "text/plain": [
              "Index(['city_development_index', 'experience', 'training_hours', 'target'], dtype='object')"
            ]
          },
          "metadata": {},
          "execution_count": 65
        }
      ]
    },
    {
      "cell_type": "code",
      "metadata": {
        "colab": {
          "base_uri": "https://localhost:8080/",
          "height": 223
        },
        "id": "hioKdUj-7b3o",
        "outputId": "41abdd84-e074-4ffb-e919-95b66ece8fe6"
      },
      "source": [
        "data_1=pd.concat([num_val,cat_val],1)\n",
        "data_1.head()"
      ],
      "execution_count": 66,
      "outputs": [
        {
          "output_type": "execute_result",
          "data": {
            "text/html": [
              "<div>\n",
              "<style scoped>\n",
              "    .dataframe tbody tr th:only-of-type {\n",
              "        vertical-align: middle;\n",
              "    }\n",
              "\n",
              "    .dataframe tbody tr th {\n",
              "        vertical-align: top;\n",
              "    }\n",
              "\n",
              "    .dataframe thead th {\n",
              "        text-align: right;\n",
              "    }\n",
              "</style>\n",
              "<table border=\"1\" class=\"dataframe\">\n",
              "  <thead>\n",
              "    <tr style=\"text-align: right;\">\n",
              "      <th></th>\n",
              "      <th>city_development_index</th>\n",
              "      <th>experience</th>\n",
              "      <th>training_hours</th>\n",
              "      <th>target</th>\n",
              "      <th>city</th>\n",
              "      <th>gender</th>\n",
              "      <th>relevent_experience</th>\n",
              "      <th>enrolled_university</th>\n",
              "      <th>education_level</th>\n",
              "      <th>major_discipline</th>\n",
              "      <th>company_size</th>\n",
              "      <th>company_type</th>\n",
              "      <th>last_new_job</th>\n",
              "    </tr>\n",
              "  </thead>\n",
              "  <tbody>\n",
              "    <tr>\n",
              "      <th>0</th>\n",
              "      <td>0.830060</td>\n",
              "      <td>1.732051</td>\n",
              "      <td>10.295630</td>\n",
              "      <td>0</td>\n",
              "      <td>41</td>\n",
              "      <td>1</td>\n",
              "      <td>0</td>\n",
              "      <td>2</td>\n",
              "      <td>0</td>\n",
              "      <td>5</td>\n",
              "      <td>1</td>\n",
              "      <td>5</td>\n",
              "      <td>0</td>\n",
              "    </tr>\n",
              "    <tr>\n",
              "      <th>1</th>\n",
              "      <td>0.960729</td>\n",
              "      <td>3.741657</td>\n",
              "      <td>8.306624</td>\n",
              "      <td>0</td>\n",
              "      <td>112</td>\n",
              "      <td>1</td>\n",
              "      <td>0</td>\n",
              "      <td>2</td>\n",
              "      <td>0</td>\n",
              "      <td>5</td>\n",
              "      <td>7</td>\n",
              "      <td>1</td>\n",
              "      <td>0</td>\n",
              "    </tr>\n",
              "    <tr>\n",
              "      <th>2</th>\n",
              "      <td>0.953939</td>\n",
              "      <td>2.449490</td>\n",
              "      <td>2.000000</td>\n",
              "      <td>0</td>\n",
              "      <td>48</td>\n",
              "      <td>1</td>\n",
              "      <td>0</td>\n",
              "      <td>2</td>\n",
              "      <td>0</td>\n",
              "      <td>5</td>\n",
              "      <td>4</td>\n",
              "      <td>4</td>\n",
              "      <td>1</td>\n",
              "    </tr>\n",
              "    <tr>\n",
              "      <th>3</th>\n",
              "      <td>0.816088</td>\n",
              "      <td>3.741657</td>\n",
              "      <td>5.099020</td>\n",
              "      <td>0</td>\n",
              "      <td>93</td>\n",
              "      <td>1</td>\n",
              "      <td>0</td>\n",
              "      <td>2</td>\n",
              "      <td>0</td>\n",
              "      <td>5</td>\n",
              "      <td>4</td>\n",
              "      <td>5</td>\n",
              "      <td>0</td>\n",
              "    </tr>\n",
              "    <tr>\n",
              "      <th>4</th>\n",
              "      <td>0.941807</td>\n",
              "      <td>2.828427</td>\n",
              "      <td>9.380832</td>\n",
              "      <td>1</td>\n",
              "      <td>2</td>\n",
              "      <td>1</td>\n",
              "      <td>1</td>\n",
              "      <td>2</td>\n",
              "      <td>2</td>\n",
              "      <td>5</td>\n",
              "      <td>4</td>\n",
              "      <td>5</td>\n",
              "      <td>1</td>\n",
              "    </tr>\n",
              "  </tbody>\n",
              "</table>\n",
              "</div>"
            ],
            "text/plain": [
              "   city_development_index  experience  training_hours  target  city  gender  \\\n",
              "0                0.830060    1.732051       10.295630       0    41       1   \n",
              "1                0.960729    3.741657        8.306624       0   112       1   \n",
              "2                0.953939    2.449490        2.000000       0    48       1   \n",
              "3                0.816088    3.741657        5.099020       0    93       1   \n",
              "4                0.941807    2.828427        9.380832       1     2       1   \n",
              "\n",
              "   relevent_experience  enrolled_university  education_level  \\\n",
              "0                    0                    2                0   \n",
              "1                    0                    2                0   \n",
              "2                    0                    2                0   \n",
              "3                    0                    2                0   \n",
              "4                    1                    2                2   \n",
              "\n",
              "   major_discipline  company_size  company_type  last_new_job  \n",
              "0                 5             1             5             0  \n",
              "1                 5             7             1             0  \n",
              "2                 5             4             4             1  \n",
              "3                 5             4             5             0  \n",
              "4                 5             4             5             1  "
            ]
          },
          "metadata": {},
          "execution_count": 66
        }
      ]
    },
    {
      "cell_type": "code",
      "metadata": {
        "colab": {
          "base_uri": "https://localhost:8080/",
          "height": 561
        },
        "id": "0TbWsZnN7gJq",
        "outputId": "2806c7b8-ac32-4126-e606-450c238fe78b"
      },
      "source": [
        "fig,ax = plt.subplots(figsize = (14,7))\n",
        "sns.heatmap(data_1.corr(),annot=True)"
      ],
      "execution_count": 67,
      "outputs": [
        {
          "output_type": "execute_result",
          "data": {
            "text/plain": [
              "<matplotlib.axes._subplots.AxesSubplot at 0x7f984927fed0>"
            ]
          },
          "metadata": {},
          "execution_count": 67
        },
        {
          "output_type": "display_data",
          "data": {
            "image/png": "[encoded data removed]",
            "text/plain": [
              "<Figure size 1008x504 with 2 Axes>"
            ]
          },
          "metadata": {
            "needs_background": "light"
          }
        }
      ]
    },
    {
      "cell_type": "code",
      "metadata": {
        "id": "forSFYCP7idP"
      },
      "source": [
        "X = data_1.drop(['target'],1)\n",
        "y = data_1['target']"
      ],
      "execution_count": 68,
      "outputs": []
    },
    {
      "cell_type": "code",
      "metadata": {
        "id": "iyoiAALG7qCt"
      },
      "source": [
        "columns = X.columns\n",
        "scaler =  MinMaxScaler(feature_range=(0, 1))\n",
        "X = scaler.fit_transform(X)"
      ],
      "execution_count": 69,
      "outputs": []
    },
    {
      "cell_type": "code",
      "metadata": {
        "colab": {
          "base_uri": "https://localhost:8080/"
        },
        "id": "EeCYiR347rOc",
        "outputId": "8dae6545-e204-42d6-8b3a-363ff9158cef"
      },
      "source": [
        "oversample = SMOTE()\n",
        "X, y = oversample.fit_resample(X, y)"
      ],
      "execution_count": 70,
      "outputs": [
        {
          "output_type": "stream",
          "name": "stderr",
          "text": [
            "/usr/local/lib/python3.7/dist-packages/sklearn/utils/deprecation.py:87: FutureWarning: Function safe_indexing is deprecated; safe_indexing is deprecated in version 0.22 and will be removed in version 0.24.\n",
            "  warnings.warn(msg, category=FutureWarning)\n"
          ]
        }
      ]
    },
    {
      "cell_type": "code",
      "metadata": {
        "id": "cQ3DDJZ17ttO"
      },
      "source": [
        "X_train, X_test, y_train, y_test = train_test_split(X,y, test_size=0.2, random_state=0)"
      ],
      "execution_count": 71,
      "outputs": []
    },
    {
      "cell_type": "code",
      "metadata": {
        "colab": {
          "base_uri": "https://localhost:8080/"
        },
        "id": "eg2QjmFl7xNI",
        "outputId": "23fd6f06-06b0-4643-aa21-3fb7f65c54d3"
      },
      "source": [
        "lsvc = LinearSVC(C = 0.01, penalty=\"l1\", dual=False, random_state=42).fit(X_train, y_train)\n",
        "model_2 = SelectFromModel(lsvc, prefit=True)\n",
        "new_train_features = model_2.transform(X_train)\n",
        "new_test_features = model_2.transform(X_test)\n",
        "\n",
        "print(new_train_features.shape,new_test_features.shape )\n",
        "\n",
        "# model building on reduced set of features\n",
        "classifier_2 = SVC()\n",
        "clf_2 = classifier_2.fit(new_train_features, y_train)\n",
        "y_pred_new = clf_2.predict(new_test_features)\n",
        "model2_score =accuracy_score(y_test, y_pred_new)\n",
        "precision, recall, f_score, _ = error_metric(y_test, y_pred_new, average='weighted')\n",
        "print(model2_score)\n",
        "print(precision, recall, f_score)\n"
      ],
      "execution_count": 72,
      "outputs": [
        {
          "output_type": "stream",
          "name": "stdout",
          "text": [
            "(25494, 11) (6374, 11)\n",
            "0.6272356448070285\n",
            "0.6287458647587232 0.6272356448070285 0.6254462641101004\n"
          ]
        }
      ]
    },
    {
      "cell_type": "code",
      "metadata": {
        "id": "AreHzXfC7y8Y"
      },
      "source": [
        "est = SVC()\n",
        "params = {'kernel' : ['linear','poly'],\n",
        "         'C' : [100,20,1,0.1]}\n",
        "\n",
        "def rscv(est, params,nbr_iter, x,y):\n",
        "    rv = RandomizedSearchCV(est, param_distributions = params, n_jobs = -1, n_iter = nbr_iter, cv = 4)\n",
        "    rv.fit(x,y)\n",
        "    ht_params = rv.best_params_\n",
        "    ht_score = rv.best_score_\n",
        "    \n",
        "    return ht_params, ht_score"
      ],
      "execution_count": 66,
      "outputs": []
    },
    {
      "cell_type": "code",
      "metadata": {
        "colab": {
          "base_uri": "https://localhost:8080/"
        },
        "id": "lcQw69LK8QbO",
        "outputId": "fd9c384b-43c5-4122-bd9a-531a70dde61d"
      },
      "source": [
        "cv_ht_params, cv_ht_score = rscv(est, params, 10, X_train, y_train)"
      ],
      "execution_count": 67,
      "outputs": [
        {
          "output_type": "stream",
          "name": "stderr",
          "text": [
            "/usr/local/lib/python3.7/dist-packages/sklearn/model_selection/_search.py:281: UserWarning: The total space of parameters 8 is smaller than n_iter=10. Running 8 iterations. For exhaustive searches, use GridSearchCV.\n",
            "  % (grid_size, self.n_iter, grid_size), UserWarning)\n"
          ]
        }
      ]
    },
    {
      "cell_type": "code",
      "metadata": {
        "colab": {
          "base_uri": "https://localhost:8080/"
        },
        "id": "cwni5Ze48Y3D",
        "outputId": "301242e8-ffe4-4c8e-ac1d-543f7cce9f66"
      },
      "source": [
        "print(cv_ht_params)\n",
        "print(cv_ht_score)"
      ],
      "execution_count": 69,
      "outputs": [
        {
          "output_type": "stream",
          "name": "stdout",
          "text": [
            "{'kernel': 'poly', 'C': 20}\n",
            "0.6345019381607307\n"
          ]
        }
      ]
    },
    {
      "cell_type": "code",
      "metadata": {
        "colab": {
          "base_uri": "https://localhost:8080/"
        },
        "id": "PJ9iGkX6H40C",
        "outputId": "34d628a8-032d-4697-dc6b-9f6e7f49b18c"
      },
      "source": [
        "logreg = LogisticRegression()\n",
        "logreg.fit(X_train,y_train)\n",
        "y_pred = logreg.predict(X_test)\n",
        "\n",
        "print('Accuracy is {}'.format(accuracy_score(y_test,y_pred)))\n",
        "print('test roc-auc: {}'.format(roc_auc_score(y_test, y_pred)))\n",
        "print('F1-score is {}'.format(f1_score(y_test,y_pred)))\n",
        "print('precision_score is {}'.format(precision_score(y_test,y_pred)))\n",
        "print('Confusion Matrix is')\n",
        "print()\n",
        "print((confusion_matrix(y_test,y_pred)))"
      ],
      "execution_count": 73,
      "outputs": [
        {
          "output_type": "stream",
          "name": "stdout",
          "text": [
            "Accuracy is 0.6077816128020082\n",
            "test roc-auc: 0.6069625154780279\n",
            "F1-score is 0.5755517826825127\n",
            "precision_score is 0.6183874498358264\n",
            "Confusion Matrix is\n",
            "\n",
            "[[2179 1046]\n",
            " [1454 1695]]\n"
          ]
        }
      ]
    },
    {
      "cell_type": "code",
      "metadata": {
        "colab": {
          "base_uri": "https://localhost:8080/"
        },
        "id": "yKyrrtvAIO5e",
        "outputId": "664bc468-52f8-4d63-e35a-2a6aea526960"
      },
      "source": [
        "model_10 = GradientBoostingClassifier(n_estimators=10, max_depth=6, random_state=0).fit(X_train, y_train)\n",
        "model_50 = GradientBoostingClassifier(n_estimators=50, max_depth=6, random_state=0).fit(X_train, y_train)\n",
        "model_100 = GradientBoostingClassifier(n_estimators=100, max_depth=6, random_state=0).fit(X_train, y_train)\n",
        "y_pred_10 = model_10.predict(X_test)\n",
        "y_pred_50 = model_50.predict(X_test)\n",
        "y_pred_100 = model_100.predict(X_test)\n",
        "print('Accuracy for model_10 is {}'.format(accuracy_score(y_test,y_pred_10)))\n",
        "print('test roc-auc: {}'.format(roc_auc_score(y_test, y_pred_10)))\n",
        "print('F1-score is {}'.format(f1_score(y_test,y_pred_10)))\n",
        "print('Confusion Matrix is')\n",
        "print()\n",
        "print((confusion_matrix(y_test,y_pred_10)))\n",
        "print(\"=======================================================================\")\n",
        "\n",
        "print('Accuracy model_50 is {}'.format(accuracy_score(y_test,y_pred_50)))\n",
        "print('test roc-auc: {}'.format(roc_auc_score(y_test, y_pred_50)))\n",
        "print('F1-score is {}'.format(f1_score(y_test,y_pred_50)))\n",
        "print('Confusion Matrix is')\n",
        "print()\n",
        "print((confusion_matrix(y_test,y_pred_50)))\n",
        "print(\"======================================================================\")\n",
        "\n",
        "print('Accuracy model_100 is {}'.format(accuracy_score(y_test,y_pred_100)))\n",
        "print('test roc-auc: {}'.format(roc_auc_score(y_test, y_pred_100)))\n",
        "print('F1-score is {}'.format(f1_score(y_test,y_pred_100)))\n",
        "print('Confusion Matrix is')\n",
        "print()\n",
        "print((confusion_matrix(y_test,y_pred_100)))"
      ],
      "execution_count": 74,
      "outputs": [
        {
          "output_type": "stream",
          "name": "stdout",
          "text": [
            "Accuracy for model_10 is 0.7572952620018827\n",
            "test roc-auc: 0.7567649629142758\n",
            "F1-score is 0.7435769932040444\n",
            "Confusion Matrix is\n",
            "\n",
            "[[2584  641]\n",
            " [ 906 2243]]\n",
            "=======================================================================\n",
            "Accuracy model_50 is 0.8647631000941324\n",
            "test roc-auc: 0.8639244155275084\n",
            "F1-score is 0.852901023890785\n",
            "Confusion Matrix is\n",
            "\n",
            "[[3013  212]\n",
            " [ 650 2499]]\n",
            "======================================================================\n",
            "Accuracy model_100 is 0.8958267963602133\n",
            "test roc-auc: 0.8948952417526421\n",
            "F1-score is 0.8856749311294766\n",
            "Confusion Matrix is\n",
            "\n",
            "[[3138   87]\n",
            " [ 577 2572]]\n"
          ]
        }
      ]
    },
    {
      "cell_type": "code",
      "metadata": {
        "colab": {
          "base_uri": "https://localhost:8080/"
        },
        "id": "F1_QTENZKlZM",
        "outputId": "b5c25467-3e4c-443e-f278-f20b2e7e0610"
      },
      "source": [
        "xgb_clf = XGBClassifier(base_estimator=logreg,random_state=0,learning_rate=0.38)\n",
        "xgb_clf.fit(X_train, y_train)\n",
        "xgb_predict= xgb_clf.predict(X_test)\n",
        "print('Accuracy is {}'.format(accuracy_score(y_test,xgb_predict)))\n",
        "print('test roc-auc: {}'.format(roc_auc_score(y_test, xgb_predict)))\n",
        "print('F1-score is {}'.format(f1_score(y_test,xgb_predict)))\n",
        "print('Confusion Matrix is')\n",
        "print()\n",
        "print((confusion_matrix(y_test,xgb_predict)))"
      ],
      "execution_count": 75,
      "outputs": [
        {
          "output_type": "stream",
          "name": "stdout",
          "text": [
            "Accuracy is 0.9005334170065893\n",
            "test roc-auc: 0.8995426627377708\n",
            "F1-score is 0.890235457063712\n",
            "Confusion Matrix is\n",
            "\n",
            "[[3169   56]\n",
            " [ 578 2571]]\n"
          ]
        }
      ]
    },
    {
      "cell_type": "code",
      "metadata": {
        "colab": {
          "base_uri": "https://localhost:8080/"
        },
        "id": "JZn05guiKthB",
        "outputId": "3b7a3b5e-b4f6-4881-85f6-bd7c4c43d83c"
      },
      "source": [
        "rf_model = RandomForestClassifier(random_state=33)\n",
        "param_grid = dict(n_estimators=range(10,100,10),max_depth=range(3,10),min_samples_split=range(8,10,15),min_samples_leaf=range(10,15),max_leaf_nodes=range(8,10))\n",
        "grid_rf = RandomizedSearchCV(rf_model,param_grid,scoring='accuracy',n_jobs=-1,cv=5,random_state=33)\n",
        "grid_rf.fit(X_train,y_train)\n",
        "dt_pred = grid_rf.best_estimator_.predict(X_test)\n",
        "print('accuracy_score:',accuracy_score(y_test, dt_pred))\n",
        "print('roc_auc_score:',roc_auc_score(y_test, dt_pred))\n",
        "print(\"f1_score: \",f1_score(y_test,dt_pred))"
      ],
      "execution_count": 76,
      "outputs": [
        {
          "output_type": "stream",
          "name": "stdout",
          "text": [
            "accuracy_score: 0.6859115155318481\n",
            "roc_auc_score: 0.6853991300302053\n",
            "f1_score:  0.6689814814814815\n"
          ]
        }
      ]
    },
    {
      "cell_type": "code",
      "metadata": {
        "colab": {
          "base_uri": "https://localhost:8080/"
        },
        "id": "lZiO4Hg2K39H",
        "outputId": "80ceab84-6a94-4f8d-a325-08e1d24dc6a7"
      },
      "source": [
        "xgb_model = XGBClassifier(objective='binary:logistic',n_jobs=-1)\n",
        "param_grid = {'max_depth':range(5,15,3),'learning_rate':np.arange(0.01,0.3,0.01),'n_estimators':range(100,200,10),'min_child_weight':range(1,15,2),'reg_lambda':range(0,5,1),'subsample':np.arange(60,110,10)/100,'colsample_bylevel':np.arange(60,110,10)/100,'colsample_bytree':np.arange(60,110,10)/100,'colsample_bynode':np.arange(60,110,10)/100,'scale_pos_weight':np.arange(1,15,1)}\n",
        "grid_xgb = RandomizedSearchCV(xgb_model,param_grid,scoring='accuracy',cv=5,random_state=33)\n",
        "grid_xgb.fit(X_train,y_train)"
      ],
      "execution_count": 77,
      "outputs": [
        {
          "output_type": "execute_result",
          "data": {
            "text/plain": [
              "RandomizedSearchCV(cv=5, error_score=nan,\n",
              "                   estimator=XGBClassifier(base_score=0.5, booster='gbtree',\n",
              "                                           colsample_bylevel=1,\n",
              "                                           colsample_bynode=1,\n",
              "                                           colsample_bytree=1, gamma=0,\n",
              "                                           learning_rate=0.1, max_delta_step=0,\n",
              "                                           max_depth=3, min_child_weight=1,\n",
              "                                           missing=None, n_estimators=100,\n",
              "                                           n_jobs=-1, nthread=None,\n",
              "                                           objective='binary:logistic',\n",
              "                                           random_state=0, reg_alpha=0,\n",
              "                                           reg_lambda=1, s...\n",
              "       0.23, 0.24, 0.25, 0.26, 0.27, 0.28, 0.29]),\n",
              "                                        'max_depth': range(5, 15, 3),\n",
              "                                        'min_child_weight': range(1, 15, 2),\n",
              "                                        'n_estimators': range(100, 200, 10),\n",
              "                                        'reg_lambda': range(0, 5),\n",
              "                                        'scale_pos_weight': array([ 1,  2,  3,  4,  5,  6,  7,  8,  9, 10, 11, 12, 13, 14]),\n",
              "                                        'subsample': array([0.6, 0.7, 0.8, 0.9, 1. ])},\n",
              "                   pre_dispatch='2*n_jobs', random_state=33, refit=True,\n",
              "                   return_train_score=False, scoring='accuracy', verbose=0)"
            ]
          },
          "metadata": {},
          "execution_count": 77
        }
      ]
    },
    {
      "cell_type": "code",
      "metadata": {
        "colab": {
          "base_uri": "https://localhost:8080/"
        },
        "id": "XvS1ChsPLAUY",
        "outputId": "9c3a1ce0-b26c-4be8-890f-3011e448c225"
      },
      "source": [
        "dt_pred = grid_xgb.best_estimator_.predict(X_test)\n",
        "print('accuracy_score:',accuracy_score(y_test, dt_pred))\n",
        "print('roc_auc_score:',roc_auc_score(y_test, dt_pred))\n",
        "print(\"f1_score: \",f1_score(y_test,dt_pred))"
      ],
      "execution_count": 78,
      "outputs": [
        {
          "output_type": "stream",
          "name": "stdout",
          "text": [
            "accuracy_score: 0.8824913711954816\n",
            "roc_auc_score: 0.882450341070501\n",
            "f1_score:  0.8808273667462212\n"
          ]
        }
      ]
    },
    {
      "cell_type": "markdown",
      "metadata": {
        "id": "ySmiIHgAaks2"
      },
      "source": [
        "##Let's work on test data now!"
      ]
    },
    {
      "cell_type": "code",
      "metadata": {
        "colab": {
          "base_uri": "https://localhost:8080/",
          "height": 240
        },
        "id": "Mb8nbdDhLsJz",
        "outputId": "0f09c4bb-ecc2-4619-c41c-95aa8ba8f97e"
      },
      "source": [
        "df.head()"
      ],
      "execution_count": 79,
      "outputs": [
        {
          "output_type": "execute_result",
          "data": {
            "text/html": [
              "<div>\n",
              "<style scoped>\n",
              "    .dataframe tbody tr th:only-of-type {\n",
              "        vertical-align: middle;\n",
              "    }\n",
              "\n",
              "    .dataframe tbody tr th {\n",
              "        vertical-align: top;\n",
              "    }\n",
              "\n",
              "    .dataframe thead th {\n",
              "        text-align: right;\n",
              "    }\n",
              "</style>\n",
              "<table border=\"1\" class=\"dataframe\">\n",
              "  <thead>\n",
              "    <tr style=\"text-align: right;\">\n",
              "      <th></th>\n",
              "      <th>enrollee_id</th>\n",
              "      <th>city</th>\n",
              "      <th>city_development_index</th>\n",
              "      <th>gender</th>\n",
              "      <th>relevent_experience</th>\n",
              "      <th>enrolled_university</th>\n",
              "      <th>education_level</th>\n",
              "      <th>major_discipline</th>\n",
              "      <th>experience</th>\n",
              "      <th>company_size</th>\n",
              "      <th>company_type</th>\n",
              "      <th>last_new_job</th>\n",
              "      <th>training_hours</th>\n",
              "    </tr>\n",
              "  </thead>\n",
              "  <tbody>\n",
              "    <tr>\n",
              "      <th>0</th>\n",
              "      <td>16548</td>\n",
              "      <td>city_33</td>\n",
              "      <td>0.448</td>\n",
              "      <td>NaN</td>\n",
              "      <td>No relevent experience</td>\n",
              "      <td>Full time course</td>\n",
              "      <td>Graduate</td>\n",
              "      <td>STEM</td>\n",
              "      <td>&lt;1</td>\n",
              "      <td>1000-4999</td>\n",
              "      <td>Public Sector</td>\n",
              "      <td>NaN</td>\n",
              "      <td>15</td>\n",
              "    </tr>\n",
              "    <tr>\n",
              "      <th>1</th>\n",
              "      <td>12036</td>\n",
              "      <td>city_28</td>\n",
              "      <td>0.939</td>\n",
              "      <td>Male</td>\n",
              "      <td>No relevent experience</td>\n",
              "      <td>no_enrollment</td>\n",
              "      <td>Graduate</td>\n",
              "      <td>STEM</td>\n",
              "      <td>&gt;20</td>\n",
              "      <td>50-99</td>\n",
              "      <td>Pvt Ltd</td>\n",
              "      <td>1</td>\n",
              "      <td>94</td>\n",
              "    </tr>\n",
              "    <tr>\n",
              "      <th>2</th>\n",
              "      <td>11061</td>\n",
              "      <td>city_103</td>\n",
              "      <td>0.920</td>\n",
              "      <td>Male</td>\n",
              "      <td>No relevent experience</td>\n",
              "      <td>Full time course</td>\n",
              "      <td>Graduate</td>\n",
              "      <td>STEM</td>\n",
              "      <td>3</td>\n",
              "      <td>NaN</td>\n",
              "      <td>NaN</td>\n",
              "      <td>1</td>\n",
              "      <td>17</td>\n",
              "    </tr>\n",
              "    <tr>\n",
              "      <th>3</th>\n",
              "      <td>5032</td>\n",
              "      <td>city_104</td>\n",
              "      <td>0.924</td>\n",
              "      <td>Male</td>\n",
              "      <td>No relevent experience</td>\n",
              "      <td>no_enrollment</td>\n",
              "      <td>Phd</td>\n",
              "      <td>STEM</td>\n",
              "      <td>&gt;20</td>\n",
              "      <td>50-99</td>\n",
              "      <td>Pvt Ltd</td>\n",
              "      <td>2</td>\n",
              "      <td>76</td>\n",
              "    </tr>\n",
              "    <tr>\n",
              "      <th>4</th>\n",
              "      <td>17599</td>\n",
              "      <td>city_77</td>\n",
              "      <td>0.830</td>\n",
              "      <td>Male</td>\n",
              "      <td>Has relevent experience</td>\n",
              "      <td>no_enrollment</td>\n",
              "      <td>Graduate</td>\n",
              "      <td>STEM</td>\n",
              "      <td>6</td>\n",
              "      <td>&lt;10</td>\n",
              "      <td>Pvt Ltd</td>\n",
              "      <td>2</td>\n",
              "      <td>65</td>\n",
              "    </tr>\n",
              "  </tbody>\n",
              "</table>\n",
              "</div>"
            ],
            "text/plain": [
              "   enrollee_id      city  city_development_index gender  \\\n",
              "0        16548   city_33                   0.448    NaN   \n",
              "1        12036   city_28                   0.939   Male   \n",
              "2        11061  city_103                   0.920   Male   \n",
              "3         5032  city_104                   0.924   Male   \n",
              "4        17599   city_77                   0.830   Male   \n",
              "\n",
              "       relevent_experience enrolled_university education_level  \\\n",
              "0   No relevent experience    Full time course        Graduate   \n",
              "1   No relevent experience       no_enrollment        Graduate   \n",
              "2   No relevent experience    Full time course        Graduate   \n",
              "3   No relevent experience       no_enrollment             Phd   \n",
              "4  Has relevent experience       no_enrollment        Graduate   \n",
              "\n",
              "  major_discipline experience company_size   company_type last_new_job  \\\n",
              "0             STEM         <1    1000-4999  Public Sector          NaN   \n",
              "1             STEM        >20        50-99        Pvt Ltd            1   \n",
              "2             STEM          3          NaN            NaN            1   \n",
              "3             STEM        >20        50-99        Pvt Ltd            2   \n",
              "4             STEM          6          <10        Pvt Ltd            2   \n",
              "\n",
              "   training_hours  \n",
              "0              15  \n",
              "1              94  \n",
              "2              17  \n",
              "3              76  \n",
              "4              65  "
            ]
          },
          "metadata": {},
          "execution_count": 79
        }
      ]
    },
    {
      "cell_type": "code",
      "metadata": {
        "id": "VtKri-NJNebO"
      },
      "source": [
        "df.gender=data.gender.fillna('Other')"
      ],
      "execution_count": 80,
      "outputs": []
    },
    {
      "cell_type": "code",
      "metadata": {
        "id": "gShNE6ZbNg_u"
      },
      "source": [
        "df.enrolled_university=df.enrolled_university.fillna(\"no_enrollment\")"
      ],
      "execution_count": 81,
      "outputs": []
    },
    {
      "cell_type": "code",
      "metadata": {
        "id": "gF9uMrkwNjXm"
      },
      "source": [
        "df.education_level=df.education_level.fillna(\"Graduate\")"
      ],
      "execution_count": 82,
      "outputs": []
    },
    {
      "cell_type": "code",
      "metadata": {
        "colab": {
          "base_uri": "https://localhost:8080/"
        },
        "id": "WIBlg9pjNmQw",
        "outputId": "1dd24315-4663-430f-8deb-5f2688394cd4"
      },
      "source": [
        "df[df.education_level=='High School']['major_discipline'].replace(np.NaN,'Other',inplace=True)"
      ],
      "execution_count": 83,
      "outputs": [
        {
          "output_type": "stream",
          "name": "stderr",
          "text": [
            "/usr/local/lib/python3.7/dist-packages/pandas/core/series.py:4582: SettingWithCopyWarning: \n",
            "A value is trying to be set on a copy of a slice from a DataFrame\n",
            "\n",
            "See the caveats in the documentation: https://pandas.pydata.org/pandas-docs/stable/user_guide/indexing.html#returning-a-view-versus-a-copy\n",
            "  method=method,\n"
          ]
        }
      ]
    },
    {
      "cell_type": "code",
      "metadata": {
        "colab": {
          "base_uri": "https://localhost:8080/"
        },
        "id": "yMax4JhxNqAa",
        "outputId": "cca36dec-301b-48e7-a1d2-ec86895beec0"
      },
      "source": [
        "df[df.education_level=='Primary School']['major_discipline'].replace(np.NaN,'Other',inplace=True)"
      ],
      "execution_count": 84,
      "outputs": [
        {
          "output_type": "stream",
          "name": "stderr",
          "text": [
            "/usr/local/lib/python3.7/dist-packages/pandas/core/series.py:4582: SettingWithCopyWarning: \n",
            "A value is trying to be set on a copy of a slice from a DataFrame\n",
            "\n",
            "See the caveats in the documentation: https://pandas.pydata.org/pandas-docs/stable/user_guide/indexing.html#returning-a-view-versus-a-copy\n",
            "  method=method,\n"
          ]
        }
      ]
    },
    {
      "cell_type": "code",
      "metadata": {
        "id": "-yBup0o8NuF3"
      },
      "source": [
        "df.major_discipline=df.major_discipline.fillna(\"STEM\")"
      ],
      "execution_count": 85,
      "outputs": []
    },
    {
      "cell_type": "code",
      "metadata": {
        "colab": {
          "base_uri": "https://localhost:8080/"
        },
        "id": "lc2oWaA2Nxqc",
        "outputId": "59fecb75-9919-40c5-edd4-9e63fdedf7ec"
      },
      "source": [
        "df[df.relevent_experience==\"No relevent experience\"]['experience']=df[df.relevent_experience==\"No relevent experience\"]['experience'].replace(np.NaN,'0')"
      ],
      "execution_count": 86,
      "outputs": [
        {
          "output_type": "stream",
          "name": "stderr",
          "text": [
            "/usr/local/lib/python3.7/dist-packages/ipykernel_launcher.py:1: SettingWithCopyWarning: \n",
            "A value is trying to be set on a copy of a slice from a DataFrame.\n",
            "Try using .loc[row_indexer,col_indexer] = value instead\n",
            "\n",
            "See the caveats in the documentation: https://pandas.pydata.org/pandas-docs/stable/user_guide/indexing.html#returning-a-view-versus-a-copy\n",
            "  \"\"\"Entry point for launching an IPython kernel.\n"
          ]
        }
      ]
    },
    {
      "cell_type": "code",
      "metadata": {
        "colab": {
          "base_uri": "https://localhost:8080/"
        },
        "id": "yfxNV_d8N0Lr",
        "outputId": "05ec3ff9-4427-4062-d89b-fb9f3523372b"
      },
      "source": [
        "df[df.relevent_experience==\"Has relevent experience\"]['experience']=df[df.relevent_experience==\"Has relevent experience\"]['experience'].replace(np.NaN,'1')"
      ],
      "execution_count": 87,
      "outputs": [
        {
          "output_type": "stream",
          "name": "stderr",
          "text": [
            "/usr/local/lib/python3.7/dist-packages/ipykernel_launcher.py:1: SettingWithCopyWarning: \n",
            "A value is trying to be set on a copy of a slice from a DataFrame.\n",
            "Try using .loc[row_indexer,col_indexer] = value instead\n",
            "\n",
            "See the caveats in the documentation: https://pandas.pydata.org/pandas-docs/stable/user_guide/indexing.html#returning-a-view-versus-a-copy\n",
            "  \"\"\"Entry point for launching an IPython kernel.\n"
          ]
        }
      ]
    },
    {
      "cell_type": "code",
      "metadata": {
        "id": "I_mS9oFhN3m5"
      },
      "source": [
        "df.experience= df.experience.replace(np.NaN,0)\n",
        "df.experience.replace('>20',21,inplace=True)\n",
        "df.experience.replace('<1',0,inplace=True)\n",
        "df.experience=df.experience.astype(int)\n",
        "df.company_type=df.company_type.fillna('Pvt Ltd')\n",
        "df.company_size=df.company_size.fillna('50-99')\n",
        "df.last_new_job=df.last_new_job.fillna('1')\n",
        "num_val_test =df.select_dtypes(exclude =object)\n",
        "cat_val_test =df.select_dtypes(include =object)"
      ],
      "execution_count": 88,
      "outputs": []
    },
    {
      "cell_type": "code",
      "metadata": {
        "colab": {
          "base_uri": "https://localhost:8080/"
        },
        "id": "PhvAIRZuORIV",
        "outputId": "19ae82a7-fe38-4641-ce0d-3396ae2060be"
      },
      "source": [
        "new_id=df.enrollee_id\n",
        "new_id['id']=num_val_test.enrollee_id\n",
        "num_val_test.drop('enrollee_id',1,inplace=True)"
      ],
      "execution_count": 89,
      "outputs": [
        {
          "output_type": "stream",
          "name": "stderr",
          "text": [
            "/usr/local/lib/python3.7/dist-packages/ipykernel_launcher.py:2: SettingWithCopyWarning: \n",
            "A value is trying to be set on a copy of a slice from a DataFrame\n",
            "\n",
            "See the caveats in the documentation: https://pandas.pydata.org/pandas-docs/stable/user_guide/indexing.html#returning-a-view-versus-a-copy\n",
            "  \n",
            "/usr/local/lib/python3.7/dist-packages/pandas/core/frame.py:4174: SettingWithCopyWarning: \n",
            "A value is trying to be set on a copy of a slice from a DataFrame\n",
            "\n",
            "See the caveats in the documentation: https://pandas.pydata.org/pandas-docs/stable/user_guide/indexing.html#returning-a-view-versus-a-copy\n",
            "  errors=errors,\n"
          ]
        }
      ]
    },
    {
      "cell_type": "code",
      "metadata": {
        "colab": {
          "base_uri": "https://localhost:8080/"
        },
        "id": "oPgOejPbOe1Z",
        "outputId": "ef6a48ba-83c1-4f35-9f35-97addfdf0a5e"
      },
      "source": [
        "label_en_test=['city','education_level','major_discipline','company_size','company_type','last_new_job']\n",
        "labelencoder_X_1 = LabelEncoder()\n",
        "for var in cat_val_test.columns:\n",
        "     cat_val_test[var] = labelencoder_X_1.fit_transform(cat_val_test[var])"
      ],
      "execution_count": 90,
      "outputs": [
        {
          "output_type": "stream",
          "name": "stderr",
          "text": [
            "/usr/local/lib/python3.7/dist-packages/ipykernel_launcher.py:4: SettingWithCopyWarning: \n",
            "A value is trying to be set on a copy of a slice from a DataFrame.\n",
            "Try using .loc[row_indexer,col_indexer] = value instead\n",
            "\n",
            "See the caveats in the documentation: https://pandas.pydata.org/pandas-docs/stable/user_guide/indexing.html#returning-a-view-versus-a-copy\n",
            "  after removing the cwd from sys.path.\n"
          ]
        }
      ]
    },
    {
      "cell_type": "code",
      "metadata": {
        "colab": {
          "base_uri": "https://localhost:8080/",
          "height": 203
        },
        "id": "Gtq1YEfDOicu",
        "outputId": "ab0aa18b-f6d0-432a-96f4-db4a96fd0f8f"
      },
      "source": [
        "cat_val_test.head()"
      ],
      "execution_count": 91,
      "outputs": [
        {
          "output_type": "execute_result",
          "data": {
            "text/html": [
              "<div>\n",
              "<style scoped>\n",
              "    .dataframe tbody tr th:only-of-type {\n",
              "        vertical-align: middle;\n",
              "    }\n",
              "\n",
              "    .dataframe tbody tr th {\n",
              "        vertical-align: top;\n",
              "    }\n",
              "\n",
              "    .dataframe thead th {\n",
              "        text-align: right;\n",
              "    }\n",
              "</style>\n",
              "<table border=\"1\" class=\"dataframe\">\n",
              "  <thead>\n",
              "    <tr style=\"text-align: right;\">\n",
              "      <th></th>\n",
              "      <th>city</th>\n",
              "      <th>gender</th>\n",
              "      <th>relevent_experience</th>\n",
              "      <th>enrolled_university</th>\n",
              "      <th>education_level</th>\n",
              "      <th>major_discipline</th>\n",
              "      <th>company_size</th>\n",
              "      <th>company_type</th>\n",
              "      <th>last_new_job</th>\n",
              "    </tr>\n",
              "  </thead>\n",
              "  <tbody>\n",
              "    <tr>\n",
              "      <th>0</th>\n",
              "      <td>73</td>\n",
              "      <td>1</td>\n",
              "      <td>1</td>\n",
              "      <td>0</td>\n",
              "      <td>0</td>\n",
              "      <td>5</td>\n",
              "      <td>2</td>\n",
              "      <td>4</td>\n",
              "      <td>0</td>\n",
              "    </tr>\n",
              "    <tr>\n",
              "      <th>1</th>\n",
              "      <td>70</td>\n",
              "      <td>1</td>\n",
              "      <td>1</td>\n",
              "      <td>2</td>\n",
              "      <td>0</td>\n",
              "      <td>5</td>\n",
              "      <td>4</td>\n",
              "      <td>5</td>\n",
              "      <td>0</td>\n",
              "    </tr>\n",
              "    <tr>\n",
              "      <th>2</th>\n",
              "      <td>5</td>\n",
              "      <td>1</td>\n",
              "      <td>1</td>\n",
              "      <td>0</td>\n",
              "      <td>0</td>\n",
              "      <td>5</td>\n",
              "      <td>4</td>\n",
              "      <td>5</td>\n",
              "      <td>0</td>\n",
              "    </tr>\n",
              "    <tr>\n",
              "      <th>3</th>\n",
              "      <td>6</td>\n",
              "      <td>1</td>\n",
              "      <td>1</td>\n",
              "      <td>2</td>\n",
              "      <td>3</td>\n",
              "      <td>5</td>\n",
              "      <td>4</td>\n",
              "      <td>5</td>\n",
              "      <td>1</td>\n",
              "    </tr>\n",
              "    <tr>\n",
              "      <th>4</th>\n",
              "      <td>105</td>\n",
              "      <td>1</td>\n",
              "      <td>0</td>\n",
              "      <td>2</td>\n",
              "      <td>0</td>\n",
              "      <td>5</td>\n",
              "      <td>7</td>\n",
              "      <td>5</td>\n",
              "      <td>1</td>\n",
              "    </tr>\n",
              "  </tbody>\n",
              "</table>\n",
              "</div>"
            ],
            "text/plain": [
              "   city  gender  relevent_experience  enrolled_university  education_level  \\\n",
              "0    73       1                    1                    0                0   \n",
              "1    70       1                    1                    2                0   \n",
              "2     5       1                    1                    0                0   \n",
              "3     6       1                    1                    2                3   \n",
              "4   105       1                    0                    2                0   \n",
              "\n",
              "   major_discipline  company_size  company_type  last_new_job  \n",
              "0                 5             2             4             0  \n",
              "1                 5             4             5             0  \n",
              "2                 5             4             5             0  \n",
              "3                 5             4             5             1  \n",
              "4                 5             7             5             1  "
            ]
          },
          "metadata": {},
          "execution_count": 91
        }
      ]
    },
    {
      "cell_type": "code",
      "metadata": {
        "colab": {
          "base_uri": "https://localhost:8080/"
        },
        "id": "nuOWtTEgOllV",
        "outputId": "65c9c215-77e0-4280-a4ca-b7941ac5fbfc"
      },
      "source": [
        "for col in num_val_test.columns:\n",
        "    num_val_test[col]=np.sqrt(num_val_test[col])"
      ],
      "execution_count": 92,
      "outputs": [
        {
          "output_type": "stream",
          "name": "stderr",
          "text": [
            "/usr/local/lib/python3.7/dist-packages/ipykernel_launcher.py:2: SettingWithCopyWarning: \n",
            "A value is trying to be set on a copy of a slice from a DataFrame.\n",
            "Try using .loc[row_indexer,col_indexer] = value instead\n",
            "\n",
            "See the caveats in the documentation: https://pandas.pydata.org/pandas-docs/stable/user_guide/indexing.html#returning-a-view-versus-a-copy\n",
            "  \n"
          ]
        }
      ]
    },
    {
      "cell_type": "code",
      "metadata": {
        "id": "b5tLjFqOOo6C"
      },
      "source": [
        "data_test=pd.concat([num_val_test,cat_val_test],1)"
      ],
      "execution_count": 93,
      "outputs": []
    },
    {
      "cell_type": "code",
      "metadata": {
        "colab": {
          "base_uri": "https://localhost:8080/"
        },
        "id": "KEPQB1ITOrU7",
        "outputId": "cb239c7d-a320-4247-e6eb-b41bb3858550"
      },
      "source": [
        "data_test.columns"
      ],
      "execution_count": 94,
      "outputs": [
        {
          "output_type": "execute_result",
          "data": {
            "text/plain": [
              "Index(['city_development_index', 'experience', 'training_hours', 'city',\n",
              "       'gender', 'relevent_experience', 'enrolled_university',\n",
              "       'education_level', 'major_discipline', 'company_size', 'company_type',\n",
              "       'last_new_job'],\n",
              "      dtype='object')"
            ]
          },
          "metadata": {},
          "execution_count": 94
        }
      ]
    },
    {
      "cell_type": "code",
      "metadata": {
        "id": "qSdKHXoROtaS"
      },
      "source": [
        "columns = data_test.columns\n",
        "scaler =  MinMaxScaler(feature_range=(0, 1))\n",
        "data_test = scaler.fit_transform(data_test)"
      ],
      "execution_count": 95,
      "outputs": []
    },
    {
      "cell_type": "code",
      "metadata": {
        "id": "0ijbBA8HOyOM"
      },
      "source": [
        "xgb_predict_test= xgb_clf.predict(data_test)"
      ],
      "execution_count": 96,
      "outputs": []
    },
    {
      "cell_type": "code",
      "metadata": {
        "id": "85rK-lBCkHur"
      },
      "source": [
        ""
      ],
      "execution_count": null,
      "outputs": []
    }
  ]
}